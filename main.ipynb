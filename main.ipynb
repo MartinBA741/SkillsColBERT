{
  "cells": [
    {
      "cell_type": "markdown",
      "metadata": {
        "id": "Wd8TyZBNY9NE"
      },
      "source": [
        "# Implementation of Sentence BERT\n",
        "This notebook takes the reader through the main results presentet in the exam project in Deep Learning at DTU."
      ]
    },
    {
      "cell_type": "code",
      "execution_count": 1,
      "metadata": {
        "colab": {
          "base_uri": "https://localhost:8080/"
        },
        "id": "7WXlKk9QJvkq",
        "outputId": "7850687a-07b8-4312-c5fc-82c4e5c3da78"
      },
      "outputs": [],
      "source": [
        "# install if run on Colab\n",
        "#!pip install pytorch-pretrained-bert pytorch-nlp scikit-learn matplotlib #tensorflow keras\n",
        "#!pip install -U sentence-transformers"
      ]
    },
    {
      "cell_type": "code",
      "execution_count": 1,
      "metadata": {
        "id": "MHL5E0ElJvku"
      },
      "outputs": [],
      "source": [
        "# imports libraries\n",
        "import torch\n",
        "import torch.nn as nn\n",
        "import torch.nn.functional as F\n",
        "from sentence_transformers import SentenceTransformer, util\n",
        "from sklearn.model_selection import train_test_split\n",
        "from tqdm import tqdm, trange\n",
        "import pandas as pd\n",
        "from sklearn.metrics import f1_score\n",
        "import io\n",
        "import numpy as np\n",
        "import matplotlib.pyplot as plt"
      ]
    },
    {
      "cell_type": "code",
      "execution_count": 3,
      "metadata": {
        "colab": {
          "base_uri": "https://localhost:8080/"
        },
        "id": "43MOLbrUJvkx",
        "outputId": "320b55d1-f6be-4e07-96a2-3eee63d65534"
      },
      "outputs": [
        {
          "name": "stdout",
          "output_type": "stream",
          "text": [
            "Tesla K80\n",
            "device = cuda\n"
          ]
        }
      ],
      "source": [
        "# specify CPU or GPU as device\n",
        "if torch.cuda.is_available():\n",
        "    device = 'cuda'\n",
        "    print(torch.cuda.get_device_name(0))\n",
        "else:\n",
        "    device = 'cpu'\n",
        "print(f'device = {device}')"
      ]
    },
    {
      "cell_type": "markdown",
      "metadata": {
        "id": "SwFTghGhbRuq"
      },
      "source": [
        "### Load data from Google Drive to pandas DataFrame"
      ]
    },
    {
      "cell_type": "code",
      "execution_count": 4,
      "metadata": {
        "colab": {
          "base_uri": "https://localhost:8080/"
        },
        "id": "82RPB6xsvgWk",
        "outputId": "a30c2d96-6ed5-46b8-e132-a5c85ee7a5f2"
      },
      "outputs": [
        {
          "name": "stdout",
          "output_type": "stream",
          "text": [
            "Drive already mounted at /content/drive; to attempt to forcibly remount, call drive.mount(\"/content/drive\", force_remount=True).\n"
          ]
        }
      ],
      "source": [
        "# Load the Drive helper and mount\n",
        "from google.colab import drive\n",
        "drive.mount('/content/drive')"
      ]
    },
    {
      "cell_type": "code",
      "execution_count": 5,
      "metadata": {
        "colab": {
          "base_uri": "https://localhost:8080/"
        },
        "id": "enTod36Tvuaa",
        "outputId": "5c1b921b-b905-44b1-cf83-5fc3d1316fc2"
      },
      "outputs": [
        {
          "name": "stdout",
          "output_type": "stream",
          "text": [
            "'Colab Notebooks'   dtu_project  'Laef Classification'\n"
          ]
        }
      ],
      "source": [
        "!ls drive/'My Drive'"
      ]
    },
    {
      "cell_type": "markdown",
      "metadata": {
        "id": "sw5GvkG7bslV"
      },
      "source": [
        "###Load data of EU skills Taxonomy (ESCO).\n",
        "Data contains skills denoted as a query and an appurtenant description denoted as a document."
      ]
    },
    {
      "cell_type": "code",
      "execution_count": 4,
      "metadata": {
        "colab": {
          "base_uri": "https://localhost:8080/",
          "height": 206
        },
        "id": "wVwg2WuobgOS",
        "outputId": "312a7770-5c25-455b-b7f7-29f4eefec9e6"
      },
      "outputs": [
        {
          "data": {
            "text/html": [
              "<div>\n",
              "<style scoped>\n",
              "    .dataframe tbody tr th:only-of-type {\n",
              "        vertical-align: middle;\n",
              "    }\n",
              "\n",
              "    .dataframe tbody tr th {\n",
              "        vertical-align: top;\n",
              "    }\n",
              "\n",
              "    .dataframe thead th {\n",
              "        text-align: right;\n",
              "    }\n",
              "</style>\n",
              "<table border=\"1\" class=\"dataframe\">\n",
              "  <thead>\n",
              "    <tr style=\"text-align: right;\">\n",
              "      <th></th>\n",
              "      <th>query</th>\n",
              "      <th>documents</th>\n",
              "    </tr>\n",
              "  </thead>\n",
              "  <tbody>\n",
              "    <tr>\n",
              "      <th>0</th>\n",
              "      <td>lede musikalsk personale</td>\n",
              "      <td>Tildele og forvalte personaleopgaver på område...</td>\n",
              "    </tr>\n",
              "    <tr>\n",
              "      <th>1</th>\n",
              "      <td>føre tilsyn med fængselsprocedurer</td>\n",
              "      <td>Føre tilsyn med driften af et fængsel eller an...</td>\n",
              "    </tr>\n",
              "    <tr>\n",
              "      <th>2</th>\n",
              "      <td>anvende antioppressiv praksis</td>\n",
              "      <td>Identificere undertrykkelse i samfund, økonomi...</td>\n",
              "    </tr>\n",
              "    <tr>\n",
              "      <th>3</th>\n",
              "      <td>kontrollere overensstemmelse med jernbaneforsk...</td>\n",
              "      <td>Inspicere rullende materiel, komponenter og sy...</td>\n",
              "    </tr>\n",
              "    <tr>\n",
              "      <th>4</th>\n",
              "      <td>identificere tilgængelige tjenester</td>\n",
              "      <td>Identificere de forskellige tjenester, der er ...</td>\n",
              "    </tr>\n",
              "  </tbody>\n",
              "</table>\n",
              "</div>"
            ],
            "text/plain": [
              "                                               query  \\\n",
              "0                           lede musikalsk personale   \n",
              "1                 føre tilsyn med fængselsprocedurer   \n",
              "2                      anvende antioppressiv praksis   \n",
              "3  kontrollere overensstemmelse med jernbaneforsk...   \n",
              "4                identificere tilgængelige tjenester   \n",
              "\n",
              "                                           documents  \n",
              "0  Tildele og forvalte personaleopgaver på område...  \n",
              "1  Føre tilsyn med driften af et fængsel eller an...  \n",
              "2  Identificere undertrykkelse i samfund, økonomi...  \n",
              "3  Inspicere rullende materiel, komponenter og sy...  \n",
              "4  Identificere de forskellige tjenester, der er ...  "
            ]
          },
          "execution_count": 4,
          "metadata": {},
          "output_type": "execute_result"
        }
      ],
      "source": [
        "# Load data of EU skills Taxonomy from CSV\n",
        "drive_path = 'drive/My Drive/dtu_project'\n",
        "\n",
        "#df = pd.read_csv(drive_path + r'/skills_description.csv', sep='\\t', encoding='utf-8')\n",
        "df = pd.read_csv(r'data\\skills_description.csv', sep='\\t', encoding='utf-8')\n",
        "df = df.rename(columns={'preferredLabel':'query', 'description': 'documents'})\n",
        "df = df[['query', 'documents']]\n",
        "\n",
        "df.head()"
      ]
    },
    {
      "cell_type": "markdown",
      "metadata": {
        "id": "oOA09iAqJvk5"
      },
      "source": [
        "## Load pretrained SBERT model"
      ]
    },
    {
      "cell_type": "code",
      "execution_count": 5,
      "metadata": {
        "id": "qkmTsZdKJvk6"
      },
      "outputs": [
        {
          "name": "stderr",
          "output_type": "stream",
          "text": [
            "Downloading: 100%|██████████| 574/574 [00:00<00:00, 87.9kB/s]\n",
            "Downloading: 100%|██████████| 3.70k/3.70k [00:00<00:00, 411kB/s]\n",
            "Downloading: 100%|██████████| 709/709 [00:00<00:00, 108kB/s]\n",
            "Downloading: 100%|██████████| 122/122 [00:00<00:00, 24.4kB/s]\n",
            "Downloading: 100%|██████████| 229/229 [00:00<00:00, 115kB/s]\n",
            "Downloading: 100%|██████████| 1.11G/1.11G [04:23<00:00, 4.22MB/s]\n",
            "Downloading: 100%|██████████| 53.0/53.0 [00:00<00:00, 17.7kB/s]\n",
            "Downloading: 100%|██████████| 5.07M/5.07M [00:14<00:00, 352kB/s]\n",
            "Downloading: 100%|██████████| 150/150 [00:00<00:00, 30.1kB/s]\n",
            "Downloading: 100%|██████████| 9.10M/9.10M [00:02<00:00, 3.37MB/s]\n",
            "Downloading: 100%|██████████| 505/505 [00:00<00:00, 50.5kB/s]\n",
            "Downloading: 100%|██████████| 190/190 [00:00<00:00, 29.3kB/s]\n"
          ]
        }
      ],
      "source": [
        "SBERT = SentenceTransformer('sentence-transformers/stsb-xlm-r-multilingual')"
      ]
    },
    {
      "cell_type": "markdown",
      "metadata": {
        "id": "_bmeEsmPk6m_"
      },
      "source": [
        "### Define my SBERT model\n",
        "Encodes pandas series of strings"
      ]
    },
    {
      "cell_type": "code",
      "execution_count": 6,
      "metadata": {
        "colab": {
          "base_uri": "https://localhost:8080/"
        },
        "id": "V5jj1e5jJvk6",
        "outputId": "5682dbd4-b45f-4f31-8d51-3025924a8a51"
      },
      "outputs": [
        {
          "data": {
            "text/plain": [
              "my_SBERT(\n",
              "  (SBERT): SentenceTransformer(\n",
              "    (0): Transformer({'max_seq_length': 128, 'do_lower_case': False}) with Transformer model: XLMRobertaModel \n",
              "    (1): Pooling({'word_embedding_dimension': 768, 'pooling_mode_cls_token': False, 'pooling_mode_mean_tokens': True, 'pooling_mode_max_tokens': False, 'pooling_mode_mean_sqrt_len_tokens': False})\n",
              "  )\n",
              ")"
            ]
          },
          "execution_count": 6,
          "metadata": {},
          "output_type": "execute_result"
        }
      ],
      "source": [
        "class my_SBERT(nn.Module):\n",
        "    '''Return embeddings of pandas Serie of dtype string'''\n",
        "    def __init__(self):\n",
        "        super(my_SBERT, self).__init__()\n",
        "        self.SBERT = SBERT.to(device)  \n",
        "        ### New layers:\n",
        "        #self.linear1 = nn.Linear(768, 132).to(device)\n",
        "          \n",
        "    def forward(self, text):\n",
        "        embeddings = torch.tensor(SBERT.encode(list(text))).to(device)\n",
        "        #embeddings = self.linear1(embeddings).to(device)\n",
        "        #embeddings = F.normalize(embeddings, p=2.0, dim=1, eps=1e-12, out=None)\n",
        "        #embeddings = F.softmax(embeddings, dim=1)\n",
        "        return embeddings\n",
        "\n",
        "my_SBERT = my_SBERT()\n",
        "\n",
        "# Print my_SBERT info:\n",
        "my_SBERT.to(device)"
      ]
    },
    {
      "cell_type": "markdown",
      "metadata": {
        "id": "HcAfN1EXdr5p"
      },
      "source": [
        "# Create embeddings."
      ]
    },
    {
      "cell_type": "code",
      "execution_count": 7,
      "metadata": {
        "colab": {
          "base_uri": "https://localhost:8080/"
        },
        "id": "wzbJt6UceJCD",
        "outputId": "b6dffcaa-f5a4-4195-88ce-2efce15303be"
      },
      "outputs": [
        {
          "name": "stdout",
          "output_type": "stream",
          "text": [
            "Shape of all document embeddings:  torch.Size([13485, 768])\n",
            "Shape of all query embeddings:   torch.Size([13485, 768])\n"
          ]
        }
      ],
      "source": [
        "# Create document embeddings of skill descriptions, i.e. embeddings of the categories\n",
        "desciption_embeddings = my_SBERT(df['documents'])\n",
        "print('Shape of all document embeddings: ', desciption_embeddings.shape)\n",
        "\n",
        "# Create query embeddings of skills\n",
        "skills_embeddings = my_SBERT(df['query'])\n",
        "print('Shape of all query embeddings:  ', skills_embeddings.shape)"
      ]
    },
    {
      "cell_type": "markdown",
      "metadata": {
        "id": "z55R1CbdqC-3"
      },
      "source": [
        "# Define functions to measure contextural similarity"
      ]
    },
    {
      "cell_type": "code",
      "execution_count": 8,
      "metadata": {
        "id": "DhXg92-iqH25"
      },
      "outputs": [],
      "source": [
        "def SingleMaxSim(q, D):\n",
        "    '''Takes in the embeddings of one query, q, and all documents' embeddings, D.\n",
        "        Return tensor of the query's similarity scores to all documents in D, maxSim_val\n",
        "        and an ordered tensor of the index of the most similar documents.'''\n",
        "    \n",
        "    # multiply the same query q against all documents (in D)\n",
        "    batch_mm = torch.matmul(q, torch.t(D))\n",
        "    \n",
        "    #maks, maks_id = torch.max(batch_mm, dim=0) \n",
        "    \n",
        "    # find the k most similar query -document pairs\n",
        "    maxSim_val, maks_idx = torch.topk(batch_mm, D.shape[0], largest=True)\n",
        "    \n",
        "    return maxSim_val, maks_idx"
      ]
    },
    {
      "cell_type": "code",
      "execution_count": 9,
      "metadata": {
        "id": "U0tN9OFlvwdm"
      },
      "outputs": [],
      "source": [
        "def MaxSim(Q, D):\n",
        "    '''Takes in the embeddings of all queries, Q, and all documents' embeddings, D.\n",
        "        Return tensor of all queries's similarity scores to all documents in D, maxSim_val\n",
        "        and an ordered tensor of the index of the most similar documents.'''\n",
        "    \n",
        "    # multiply the same query q against all documents (in D)\n",
        "    batch_mm = torch.matmul(Q, torch.t(D))\n",
        "    \n",
        "    #maks, maks_id = torch.max(batch_mm, dim=0) \n",
        "    \n",
        "    # find the k most similar query -document pairs\n",
        "    maxSim_val, maks_idx = torch.topk(batch_mm, D.shape[0], largest=True)\n",
        "    \n",
        "    return maxSim_val, maks_idx"
      ]
    },
    {
      "cell_type": "code",
      "execution_count": 10,
      "metadata": {
        "id": "XXZORESp0wN8"
      },
      "outputs": [],
      "source": [
        "def accuracy_top_k(batch_size, pred_idx):\n",
        "    '''Return the accuracy score of correct predictions in top k'''\n",
        "    yes_no = []\n",
        "    for i in range(batch_size):\n",
        "        yes_no.append(i in pred_idx[i])\n",
        "\n",
        "    return np.round((np.sum(yes_no) / batch_size)*100,2)"
      ]
    },
    {
      "cell_type": "markdown",
      "metadata": {
        "id": "63ahh_QyJvlB"
      },
      "source": [
        "## MaxSim implementation"
      ]
    },
    {
      "cell_type": "code",
      "execution_count": 12,
      "metadata": {
        "colab": {
          "base_uri": "https://localhost:8080/"
        },
        "id": "4PNJGF2CJvlB",
        "outputId": "66ff2965-674d-4009-b225-21424698bb77"
      },
      "outputs": [
        {
          "name": "stdout",
          "output_type": "stream",
          "text": [
            "f1 score:  0.1489\n",
            "right 2792 out of 13485 \n",
            " 20.7% accuracy\n"
          ]
        }
      ],
      "source": [
        "batch_size = skills_embeddings.shape[0]\n",
        "\n",
        "# Calculate MaxSim score and save the index of documents most similar to each query\n",
        "maxSim_val, maks_idx = MaxSim(Q=skills_embeddings, D=desciption_embeddings)\n",
        "\n",
        "# Due to the unchanged order of Q - IDs are also the true labls\n",
        "y_true = [x for x in range(batch_size)]\n",
        "y_pred = maks_idx[:, 0].to('cpu')\n",
        "\n",
        "# Calculate and display f1-score\n",
        "print('f1 score: ', round(f1_score(y_true, y_pred, average='weighted'),4))\n",
        "\n",
        "# Calculate correct and wrong predictions\n",
        "rights = sum(np.array(y_true) == np.array(y_pred))\n",
        "wrongs = sum(np.array(y_true) != np.array(y_pred))\n",
        "\n",
        "# Calculate and display accuracy score\n",
        "print(f'right {rights} out of {rights+wrongs} \\n {np.round(rights/(rights+wrongs)*100,2)}% accuracy')"
      ]
    },
    {
      "cell_type": "code",
      "execution_count": 14,
      "metadata": {
        "colab": {
          "base_uri": "https://localhost:8080/"
        },
        "id": "q0KA1K0DJvlC",
        "outputId": "e5342432-f165-4991-bf66-5b030075b6e7"
      },
      "outputs": [
        {
          "name": "stdout",
          "output_type": "stream",
          "text": [
            "Top 1 accuracy: 20.7%\n",
            "Top 3 accuracy: 34.2%\n",
            "Top 5 accuracy: 41.34%\n",
            "Top 10 accuracy: 50.73%\n",
            "Top 20 accuracy: 60.07%\n",
            "Top 50 accuracy: 70.92%\n"
          ]
        }
      ],
      "source": [
        "# In top k\n",
        "\n",
        "# Similarity calculation\n",
        "mm = torch.matmul(skills_embeddings, torch.t(desciption_embeddings))\n",
        "\n",
        "# find to k most similar\n",
        "for k in [1, 3, 5, 10, 20, 50]:\n",
        "    print(f'Top {k} accuracy: {accuracy_top_k(batch_size, pred_idx=torch.topk(mm, k=k, largest=True)[1])}%' )"
      ]
    },
    {
      "cell_type": "code",
      "execution_count": 15,
      "metadata": {
        "colab": {
          "base_uri": "https://localhost:8080/",
          "height": 601
        },
        "id": "-AqKYMBfJvlC",
        "outputId": "cc429e7d-a05b-4c43-decf-85d57891edfa"
      },
      "outputs": [
        {
          "data": {
            "image/png": "[encoded data removed]",
            "text/plain": [
              "<Figure size 1440x640 with 1 Axes>"
            ]
          },
          "metadata": {
            "needs_background": "light"
          },
          "output_type": "display_data"
        }
      ],
      "source": [
        "# Distribution of \"predictions\"\n",
        "plt.figure(figsize=(18, 8), dpi=80)\n",
        "plt.hist(most_similar_docID, bins=Q.shape[0])\n",
        "plt.title('Distribution of predictions of Maximum Similarity', fontsize=32)\n",
        "plt.xlabel('Document ID', fontsize=28)\n",
        "\n",
        "plt.ylabel('No. of predictions', fontsize=28)\n",
        "plt.ylim(0,80)\n",
        "\n",
        "#plt.savefig(r'J:\\VOA\\MABI\\Deep Learning\\my_DTU_project\\images\\xlm_distribution_MaxSim.png')\n",
        "plt.show()"
      ]
    },
    {
      "cell_type": "markdown",
      "metadata": {
        "id": "AtPl8Qq3JvlI"
      },
      "source": [
        "# Implementation of MINIMUM Eucledian distance"
      ]
    },
    {
      "cell_type": "code",
      "execution_count": 15,
      "metadata": {
        "id": "mifFNHmd7IR8"
      },
      "outputs": [],
      "source": [
        "def MinEuc(Q,D):\n",
        "    EucDist = torch.cdist(Q, D, p=2, compute_mode = 'use_mm_for_euclid_dist_if_necessary')\n",
        "\n",
        "    # find most similar\n",
        "    min_idx = torch.topk(EucDist, Q.shape[0], largest=False)[1]\n",
        "\n",
        "    return min_idx[:, 0:50]"
      ]
    },
    {
      "cell_type": "code",
      "execution_count": 16,
      "metadata": {
        "colab": {
          "base_uri": "https://localhost:8080/"
        },
        "id": "-Q4rFI6cJvlI",
        "outputId": "09b5bbf7-9f5a-4c43-d021-1d1c412da6dd"
      },
      "outputs": [
        {
          "name": "stdout",
          "output_type": "stream",
          "text": [
            "f_1score:  0.1756\n",
            "rights: 3009 out of 13485 \n",
            " 22.31% accuracy\n"
          ]
        }
      ],
      "source": [
        "batch_size = skills_embeddings.shape[0] \n",
        "min_idx = MinEuc(Q=skills_embeddings, D=desciption_embeddings)\n",
        "\n",
        "# Due to the unchanged order - IDs are also the true labls\n",
        "y_true = [x for x in range(batch_size)]\n",
        "y_pred = min_idx[:, 0].to('cpu') #np.array(min_idx)\n",
        "\n",
        "# Calculate and display f1-score\n",
        "print('f_1score: ', round(f1_score(y_true, y_pred, average='weighted'),4))\n",
        "\n",
        "# Calculate correct and wrong predictions\n",
        "rights = sum(np.array(y_true) == np.array(y_pred))\n",
        "wrongs = sum(np.array(y_true) != np.array(y_pred))\n",
        "\n",
        "# Calculate and display accuracy\n",
        "print(f'rights: {rights} out of {rights+wrongs} \\n {np.round(rights/(rights+wrongs)*100,2)}% accuracy')\n"
      ]
    },
    {
      "cell_type": "code",
      "execution_count": 17,
      "metadata": {
        "id": "vxFlUEocPKjD"
      },
      "outputs": [],
      "source": [
        "def accuracy_top_k(batch_size, k, pred_idx):\n",
        "    '''Return the accuracy score of correct predictions in top k'''\n",
        "    yes_no = []\n",
        "    for i in range(batch_size):\n",
        "        yes_no.append(i in pred_idx[i][:k])\n",
        "\n",
        "    return np.round((np.sum(yes_no) / batch_size)*100,2)"
      ]
    },
    {
      "cell_type": "code",
      "execution_count": 18,
      "metadata": {
        "colab": {
          "base_uri": "https://localhost:8080/"
        },
        "id": "V0NwHNy5M7A5",
        "outputId": "246cbba0-e646-416f-b7d1-b8f45ad11bd0"
      },
      "outputs": [
        {
          "name": "stdout",
          "output_type": "stream",
          "text": [
            "Top 1 accuracy: 22.31%\n",
            "Top 3 accuracy: 35.35%\n",
            "Top 5 accuracy: 41.77%\n",
            "Top 10 accuracy: 50.4%\n",
            "Top 20 accuracy: 58.88%\n",
            "Top 50 accuracy: 69.57%\n"
          ]
        }
      ],
      "source": [
        "# In top k\n",
        "\n",
        "# find to k most similar\n",
        "for k in [1, 3, 5, 10, 20, 50]:\n",
        "    print(f'Top {k} accuracy: {accuracy_top_k(batch_size, k, pred_idx=min_idx)}%' )"
      ]
    },
    {
      "cell_type": "markdown",
      "metadata": {
        "id": "ZYipDOy7JvlK"
      },
      "source": [
        "## Play around and test any skill you can think of"
      ]
    },
    {
      "cell_type": "code",
      "execution_count": 19,
      "metadata": {
        "colab": {
          "base_uri": "https://localhost:8080/",
          "height": 363
        },
        "id": "gK-9buXOSzms",
        "outputId": "b4780f76-4aa7-415a-a112-a40b92494c52"
      },
      "outputs": [
        {
          "data": {
            "text/html": [
              "<div>\n",
              "<style scoped>\n",
              "    .dataframe tbody tr th:only-of-type {\n",
              "        vertical-align: middle;\n",
              "    }\n",
              "\n",
              "    .dataframe tbody tr th {\n",
              "        vertical-align: top;\n",
              "    }\n",
              "\n",
              "    .dataframe thead th {\n",
              "        text-align: right;\n",
              "    }\n",
              "</style>\n",
              "<table border=\"1\" class=\"dataframe\">\n",
              "  <thead>\n",
              "    <tr style=\"text-align: right;\">\n",
              "      <th></th>\n",
              "      <th>query</th>\n",
              "      <th>documents</th>\n",
              "    </tr>\n",
              "  </thead>\n",
              "  <tbody>\n",
              "    <tr>\n",
              "      <th>5907</th>\n",
              "      <td>kunne sidde ned i lange perioder</td>\n",
              "      <td>Have tålmodighed til at blive siddende i lang ...</td>\n",
              "    </tr>\n",
              "    <tr>\n",
              "      <th>1457</th>\n",
              "      <td>udvise tålmodighed</td>\n",
              "      <td>Have tålmodighed ved at forholde sig til uvent...</td>\n",
              "    </tr>\n",
              "    <tr>\n",
              "      <th>12940</th>\n",
              "      <td>være vedholdende</td>\n",
              "      <td>Fortsætte sine opgaver til trods for træthed e...</td>\n",
              "    </tr>\n",
              "    <tr>\n",
              "      <th>11014</th>\n",
              "      <td>håndtere stress</td>\n",
              "      <td>Bevare en afbalanceret mental tilstand og en e...</td>\n",
              "    </tr>\n",
              "    <tr>\n",
              "      <th>11277</th>\n",
              "      <td>have gode manerer ved sengekanten</td>\n",
              "      <td>Sørge for, at patienterne føler sig godt tilpa...</td>\n",
              "    </tr>\n",
              "    <tr>\n",
              "      <th>12484</th>\n",
              "      <td>sikre tjenestebrugernes tillid</td>\n",
              "      <td>Etablere og opretholde kundens tiltro og tilli...</td>\n",
              "    </tr>\n",
              "    <tr>\n",
              "      <th>12424</th>\n",
              "      <td>udvise diplomatiske evner</td>\n",
              "      <td>Håndtere mennesker på en følsom og taktfuld måde.</td>\n",
              "    </tr>\n",
              "    <tr>\n",
              "      <th>3366</th>\n",
              "      <td>give sikre instrukser om fitness</td>\n",
              "      <td>Sørge for sikker og effektiv fitnessinstruktion.</td>\n",
              "    </tr>\n",
              "    <tr>\n",
              "      <th>1522</th>\n",
              "      <td>tage fat om spørgsmål vedrørende folkesundhed</td>\n",
              "      <td>Fremme sund praksis og adfærd for at sikre, at...</td>\n",
              "    </tr>\n",
              "    <tr>\n",
              "      <th>8908</th>\n",
              "      <td>håndtere stressede situationer</td>\n",
              "      <td>Håndtere og styre meget stressende situationer...</td>\n",
              "    </tr>\n",
              "  </tbody>\n",
              "</table>\n",
              "</div>"
            ],
            "text/plain": [
              "                                               query  \\\n",
              "5907                kunne sidde ned i lange perioder   \n",
              "1457                              udvise tålmodighed   \n",
              "12940                               være vedholdende   \n",
              "11014                                håndtere stress   \n",
              "11277              have gode manerer ved sengekanten   \n",
              "12484                 sikre tjenestebrugernes tillid   \n",
              "12424                      udvise diplomatiske evner   \n",
              "3366                give sikre instrukser om fitness   \n",
              "1522   tage fat om spørgsmål vedrørende folkesundhed   \n",
              "8908                  håndtere stressede situationer   \n",
              "\n",
              "                                               documents  \n",
              "5907   Have tålmodighed til at blive siddende i lang ...  \n",
              "1457   Have tålmodighed ved at forholde sig til uvent...  \n",
              "12940  Fortsætte sine opgaver til trods for træthed e...  \n",
              "11014  Bevare en afbalanceret mental tilstand og en e...  \n",
              "11277  Sørge for, at patienterne føler sig godt tilpa...  \n",
              "12484  Etablere og opretholde kundens tiltro og tilli...  \n",
              "12424  Håndtere mennesker på en følsom og taktfuld måde.  \n",
              "3366    Sørge for sikker og effektiv fitnessinstruktion.  \n",
              "1522   Fremme sund praksis og adfærd for at sikre, at...  \n",
              "8908   Håndtere og styre meget stressende situationer...  "
            ]
          },
          "execution_count": 19,
          "metadata": {},
          "output_type": "execute_result"
        }
      ],
      "source": [
        "# write anything here:\n",
        "raw_skill = \"tålmodighed\"\n",
        "\n",
        "encoding_skill = my_SBERT([raw_skill])[0]\n",
        "\n",
        "ordered_match = SingleMaxSim(q=encoding_skill, D=desciption_embeddings)[1]\n",
        "\n",
        "k=10\n",
        "df.iloc[ordered_match[:k].to('cpu')]"
      ]
    }
  ],
  "metadata": {
    "accelerator": "GPU",
    "colab": {
      "collapsed_sections": [],
      "name": "SBERT.ipynb",
      "provenance": []
    },
    "kernelspec": {
      "display_name": "Python 3",
      "name": "python3"
    },
    "language_info": {
      "codemirror_mode": {
        "name": "ipython",
        "version": 3
      },
      "file_extension": ".py",
      "mimetype": "text/x-python",
      "name": "python",
      "nbconvert_exporter": "python",
      "pygments_lexer": "ipython3",
      "version": "3.9.7"
    }
  },
  "nbformat": 4,
  "nbformat_minor": 0
}
