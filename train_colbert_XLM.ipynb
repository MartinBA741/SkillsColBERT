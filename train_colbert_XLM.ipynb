{
 "cells": [
  {
   "cell_type": "markdown",
   "metadata": {},
   "source": [
    "# Predict and evaluate SkillsColBERT"
   ]
  },
  {
   "cell_type": "code",
   "execution_count": 25,
   "metadata": {},
   "outputs": [],
   "source": [
    "# install\n",
    "# !pip install pytorch-pretrained-bert pytorch-nlp keras scikit-learn matplotlib tensorflow\n",
    "#!pip install -U sentence-transformers\n",
    "#https://towardsdatascience.com/bert-for-dummies-step-by-step-tutorial-fb90890ffe03 "
   ]
  },
  {
   "cell_type": "markdown",
   "metadata": {},
   "source": [
    "## Questions:\n",
    "\n",
    "    a) Dimensions of max function in MaxSim method function.\n",
    "        - max of column vectors in matrix OR max of row vectors in columns --> 24 dimensional\n",
    "    b) Training of my ColBERT model\n",
    "        - [Q] and [D] in vocabulary --> Drop\n",
    "        - Weights in additional linear layer of 32\n",
    "        - [MASK] as padding instead of [PAD]\n",
    "    c) How to save:\n",
    "        The model (in github) --> Drop\n",
    "        The document embeddings\n",
    "        \n"
   ]
  },
  {
   "cell_type": "code",
   "execution_count": 25,
   "metadata": {},
   "outputs": [
    {
     "name": "stderr",
     "output_type": "stream",
     "text": [
      "UsageError: Line magic function `%` not found.\n"
     ]
    }
   ],
   "source": [
    "# BERT imports\n",
    "import torch\n",
    "import torch.nn as nn\n",
    "import torch.nn.functional as F\n",
    "from torch.utils.data import TensorDataset, DataLoader, RandomSampler, SequentialSampler\n",
    "from keras.preprocessing.sequence import pad_sequences\n",
    "from sklearn.model_selection import train_test_split\n",
    "from pytorch_pretrained_bert import BertTokenizer, BertConfig\n",
    "from pytorch_pretrained_bert import BertAdam, BertForSequenceClassification\n",
    "from tqdm import tqdm, trange\n",
    "import pandas as pd\n",
    "from sklearn.metrics import f1_score\n",
    "import io\n",
    "import numpy as np\n",
    "import matplotlib.pyplot as plt\n",
    "% matplotlib inline"
   ]
  },
  {
   "cell_type": "code",
   "execution_count": 10,
   "metadata": {},
   "outputs": [
    {
     "name": "stdout",
     "output_type": "stream",
     "text": [
      "device = cpu\n"
     ]
    }
   ],
   "source": [
    "# specify CPU or GPU as device\n",
    "if torch.cuda.is_available():\n",
    "  device = 'cuda'\n",
    "else:\n",
    "  device = 'cpu'\n",
    "print(f'device = {device}')"
   ]
  },
  {
   "cell_type": "code",
   "execution_count": null,
   "metadata": {},
   "outputs": [],
   "source": []
  },
  {
   "cell_type": "code",
   "execution_count": 11,
   "metadata": {},
   "outputs": [
    {
     "data": {
      "text/html": [
       "<div>\n",
       "<style scoped>\n",
       "    .dataframe tbody tr th:only-of-type {\n",
       "        vertical-align: middle;\n",
       "    }\n",
       "\n",
       "    .dataframe tbody tr th {\n",
       "        vertical-align: top;\n",
       "    }\n",
       "\n",
       "    .dataframe thead th {\n",
       "        text-align: right;\n",
       "    }\n",
       "</style>\n",
       "<table border=\"1\" class=\"dataframe\">\n",
       "  <thead>\n",
       "    <tr style=\"text-align: right;\">\n",
       "      <th></th>\n",
       "      <th>query</th>\n",
       "      <th>documents</th>\n",
       "    </tr>\n",
       "  </thead>\n",
       "  <tbody>\n",
       "    <tr>\n",
       "      <th>0</th>\n",
       "      <td>lede musikalsk personale</td>\n",
       "      <td>Tildele og forvalte personaleopgaver på område...</td>\n",
       "    </tr>\n",
       "    <tr>\n",
       "      <th>1</th>\n",
       "      <td>føre tilsyn med fængselsprocedurer</td>\n",
       "      <td>Føre tilsyn med driften af et fængsel eller an...</td>\n",
       "    </tr>\n",
       "    <tr>\n",
       "      <th>2</th>\n",
       "      <td>anvende antioppressiv praksis</td>\n",
       "      <td>Identificere undertrykkelse i samfund, økonomi...</td>\n",
       "    </tr>\n",
       "    <tr>\n",
       "      <th>3</th>\n",
       "      <td>kontrollere overensstemmelse med jernbaneforsk...</td>\n",
       "      <td>Inspicere rullende materiel, komponenter og sy...</td>\n",
       "    </tr>\n",
       "    <tr>\n",
       "      <th>4</th>\n",
       "      <td>identificere tilgængelige tjenester</td>\n",
       "      <td>Identificere de forskellige tjenester, der er ...</td>\n",
       "    </tr>\n",
       "    <tr>\n",
       "      <th>...</th>\n",
       "      <td>...</td>\n",
       "      <td>...</td>\n",
       "    </tr>\n",
       "    <tr>\n",
       "      <th>13480</th>\n",
       "      <td>forbedre sundhedsbrugers erhvervsevne</td>\n",
       "      <td>Forbedre eller genoprette de kognitive, sensor...</td>\n",
       "    </tr>\n",
       "    <tr>\n",
       "      <th>13481</th>\n",
       "      <td>installere lys i transportudstyr</td>\n",
       "      <td>Montere lyselementer i transportudstyr i henho...</td>\n",
       "    </tr>\n",
       "    <tr>\n",
       "      <th>13482</th>\n",
       "      <td>taleprogsbehandling</td>\n",
       "      <td>Teknologier, der gør IKT-udstyr i stand til at...</td>\n",
       "    </tr>\n",
       "    <tr>\n",
       "      <th>13483</th>\n",
       "      <td>koordinere bygge- og anlægsaktiviteter</td>\n",
       "      <td>Koordinere flere bygningsarbejderes eller hold...</td>\n",
       "    </tr>\n",
       "    <tr>\n",
       "      <th>13484</th>\n",
       "      <td>anbringe gelændere og fodbrædder</td>\n",
       "      <td>Fastgøre gelændere og fodbrædder på stilladsst...</td>\n",
       "    </tr>\n",
       "  </tbody>\n",
       "</table>\n",
       "<p>13485 rows × 2 columns</p>\n",
       "</div>"
      ],
      "text/plain": [
       "                                                   query  \\\n",
       "0                               lede musikalsk personale   \n",
       "1                     føre tilsyn med fængselsprocedurer   \n",
       "2                          anvende antioppressiv praksis   \n",
       "3      kontrollere overensstemmelse med jernbaneforsk...   \n",
       "4                    identificere tilgængelige tjenester   \n",
       "...                                                  ...   \n",
       "13480              forbedre sundhedsbrugers erhvervsevne   \n",
       "13481                   installere lys i transportudstyr   \n",
       "13482                                taleprogsbehandling   \n",
       "13483             koordinere bygge- og anlægsaktiviteter   \n",
       "13484                   anbringe gelændere og fodbrædder   \n",
       "\n",
       "                                               documents  \n",
       "0      Tildele og forvalte personaleopgaver på område...  \n",
       "1      Føre tilsyn med driften af et fængsel eller an...  \n",
       "2      Identificere undertrykkelse i samfund, økonomi...  \n",
       "3      Inspicere rullende materiel, komponenter og sy...  \n",
       "4      Identificere de forskellige tjenester, der er ...  \n",
       "...                                                  ...  \n",
       "13480  Forbedre eller genoprette de kognitive, sensor...  \n",
       "13481  Montere lyselementer i transportudstyr i henho...  \n",
       "13482  Teknologier, der gør IKT-udstyr i stand til at...  \n",
       "13483  Koordinere flere bygningsarbejderes eller hold...  \n",
       "13484  Fastgøre gelændere og fodbrædder på stilladsst...  \n",
       "\n",
       "[13485 rows x 2 columns]"
      ]
     },
     "execution_count": 11,
     "metadata": {},
     "output_type": "execute_result"
    }
   ],
   "source": [
    "# Load data\n",
    "df = pd.read_csv(r'.\\data\\skills_description.csv', sep='\\t', encoding='utf-8')\n",
    "df = df.rename(columns={'preferredLabel':'query', 'description': 'documents'})\n",
    "df = df[['query', 'documents']]\n",
    "\n",
    "df"
   ]
  },
  {
   "cell_type": "code",
   "execution_count": 13,
   "metadata": {},
   "outputs": [],
   "source": [
    "# Make query embeddings or load them\n",
    "#q_outputs = torch.tensor(model.encode(df['query'])).to(device)\n",
    "#q_outputs = torch.load(r'J:\\VOA\\MABI\\Deep Learning\\SkillsColBERT\\xlm_embeddings\\xlm_query_embeddings_tensor.pt')\n",
    "#print(q_outputs.shape)\n",
    "\n",
    "# Make document embeddings or load them\n",
    "#d_outputs = torch.tensor(model.encode(df['documents'])).to(device)\n",
    "#d_outputs = torch.load(r'J:\\VOA\\MABI\\Deep Learning\\SkillsColBERT\\xlm_embeddings\\xlm_doc_embeddings_tensor.pt')\n",
    "#print(d_outputs.shape)\n",
    "\n",
    "#torch.save(q_outputs, r'J:\\VOA\\MABI\\Deep Learning\\SkillsColBERT\\xlm_embeddings\\xlm_query_embeddings_tensor.pt')\n",
    "#torch.save(d_outputs, r'J:\\VOA\\MABI\\Deep Learning\\SkillsColBERT\\xlm_embeddings\\xlm_doc_embeddings_tensor.pt')"
   ]
  },
  {
   "cell_type": "markdown",
   "metadata": {},
   "source": [
    "# Import model\n",
    "Queries and documents have now been tokenized to the vocabolary"
   ]
  },
  {
   "cell_type": "markdown",
   "metadata": {},
   "source": [
    "## Load Query and Document embeddings"
   ]
  },
  {
   "cell_type": "markdown",
   "metadata": {},
   "source": [
    "In summary, given a query sequence $q = q_0 q_1...q_l$ and a document sequence $d = d_0 d_1...d_n$, we compute the bags of embeddings $E_q$ and $E_d$ in the following manner:\n",
    "\n",
    "* $E_q$ := Normalize( CNN( BERT(“[Q]$q_0 q_1...q_l$ ##...#”) ) )\n",
    "\n",
    "* $E_d$ := Normalize( CNN( BERT(“[D]$d_0 d_1...d_l$ ...d_n”) ) )\n",
    "\n",
    "where '#' refers to the [mask] tokens. \n",
    "\n",
    "In the baseline SBERT the output dimensions are as follow:\n",
    "\\begin{align*}\n",
    "    dim(E_q) = [1 \\times 768] \\\\\n",
    "    dim(E_d) = [1 \\times 768]\n",
    "\\end{align*}\n",
    "\n",
    "\\begin{align*}\n",
    "    dim(E_Q) = [13,485 \\times 768] \\\\\n",
    "    dim(E_D) = [13,485 \\times 768]\n",
    "\\end{align*}\n",
    "\n",
    "\n",
    "but with ColBert the last dimension is reduced to 132 by an additional linear layer, such that my implementation of ColBERT, the output dimensions are as follow:\n",
    "\\begin{align*}\n",
    "    dim(E_q) = [1 \\times 132] \\\\\n",
    "    dim(E_d) = [1 \\times 132]\n",
    "\\end{align*}\n",
    "\n",
    "In practice the MaxSim score is implemented such that 1 query is evaluated against all ducuments. Therefore the relevant dimensions are:\n",
    "\\begin{align*}\n",
    "    dim(E_q) = [13,485 \\times 132] \\\\\n",
    "    dim(E_D) = [13,485 \\times 132]\n",
    "\\end{align*}\n",
    "\n",
    "\n",
    "### The relevancy score, MaxSim, is defined as follows:\n",
    "$$ S_{Q,D} =  E_{Q} * E_{D}^T$$\n",
    "$$dim(S_{Q,D}) = [13,485 \\times 13,485] $$\n",
    "\n",
    "The MaxSim score rates alle combinations of queries and documents. The most similar document is \n",
    "$$\\underset{j\\in ||D||}{\\max}  S_{Q,D} $$\n",
    "$$\\dim(\\underset{j\\in ||D||}{\\max}  S_{Q,D}) = [13.485 \\times 1]$$\n",
    "\n"
   ]
  },
  {
   "cell_type": "code",
   "execution_count": 20,
   "metadata": {},
   "outputs": [
    {
     "data": {
      "text/plain": [
       "torch.Size([13485])"
      ]
     },
     "execution_count": 20,
     "metadata": {},
     "output_type": "execute_result"
    }
   ],
   "source": [
    "mm = torch.matmul(q_outputs, torch.t(d_outputs))\n",
    "maxSim, maks_idx = torch.max(mm, dim=1)\n",
    "\n",
    "maxSim.shape"
   ]
  },
  {
   "cell_type": "code",
   "execution_count": 24,
   "metadata": {},
   "outputs": [
    {
     "data": {
      "text/plain": [
       "tensor(2792)"
      ]
     },
     "execution_count": 24,
     "metadata": {},
     "output_type": "execute_result"
    }
   ],
   "source": []
  },
  {
   "cell_type": "code",
   "execution_count": 8,
   "metadata": {},
   "outputs": [],
   "source": [
    "def accuracy_top_k(Q, pred_idx):\n",
    "    '''Return the accuracy score of correct predictions in top k'''\n",
    "    yes_no = []\n",
    "    for i in range(Q.shape[0]):\n",
    "        yes_no.append(i in pred_idx[i])\n",
    "\n",
    "    return np.sum(yes_no) / Q.shape[0]"
   ]
  },
  {
   "cell_type": "markdown",
   "metadata": {},
   "source": [
    "## Define Model"
   ]
  },
  {
   "cell_type": "code",
   "execution_count": 29,
   "metadata": {},
   "outputs": [],
   "source": [
    "from sentence_transformers import SentenceTransformer, util\n",
    "\n",
    "SBERT = SentenceTransformer('sentence-transformers/stsb-xlm-r-multilingual')\n",
    "SBERT.to(device)\n",
    "\n",
    "\n",
    "class MyColBERT(nn.Module):\n",
    "      def __init__(self):\n",
    "            super(MyColBERT, self).__init__()\n",
    "            self.SBERT = SBERT \n",
    "            ### New layers:\n",
    "            self.linear1 = nn.Linear(768, 132) \n",
    "\n",
    "            # Freeze parameters of BERT Base as I only will train last layer\n",
    "            for param in SBERT.parameters():\n",
    "                  param.requires_grad = False\n",
    "          \n",
    "\n",
    "      def forward(self, queries, documents , dist_measure='MaxSim'):\n",
    "\n",
    "\n",
    "            query_embeddings = torch.tensor(SBERT.encode(queries)).to(device)\n",
    "            query_embeddings = self.linear1(query_embeddings)\n",
    "            query_embeddings = F.normalize(query_embeddings, p=2.0, dim=1, eps=1e-12, out=None)\n",
    "            #query_embeddings = F.softmax(query_embeddings, dim=1)\n",
    "\n",
    "            doc_embeddings = torch.tensor(SBERT.encode(documents)).to(device)\n",
    "            doc_embeddings = self.linear1(doc_embeddings)\n",
    "            doc_embeddings = F.normalize(doc_embeddings, p=2.0, dim=1, eps=1e-12, out=None)\n",
    "            #doc_embeddings = F.softmax(doc_embeddings, dim=1)\n",
    "\n",
    "            # Compute score for a query against all documents (in batch) \n",
    "#            score = F.softmax(self.MaxSim(query_embeddings[q_index], doc_embeddings), dim=0)\n",
    "            if dist_measure=='MaxSim':\n",
    "                  sim_score, sim_idx = self.xlmMaxSim(query_embeddings, doc_embeddings)\n",
    "            elif dist_measure=='MinEuc': \n",
    "                  sim_score, sim_idx = self.MinEuc(query_embeddings, doc_embeddings)\n",
    "\n",
    "            return sim_score, sim_idx\n",
    "\n",
    "      \n",
    "      def xlmMaxSim(Q,D):\n",
    "            '''Return the maximum similarity score (maxSim) for all query-document combinations\n",
    "               and the id (maks_idx) of the most similar document for each query.\n",
    "\n",
    "            Keyword arguments:\n",
    "            Q -- tensor of all queries' embeddings \n",
    "            D -- tensor of all documents' embeddings\n",
    "            '''\n",
    "\n",
    "            mm = torch.matmul(Q, torch.t(D))\n",
    "\n",
    "            maxSim, maks_idx = torch.max(mm, dim=1) # dim=1 or dim=2\n",
    "\n",
    "            return maxSim, maks_idx\n",
    "\n",
    "      \n",
    "      def MinEuc(Q, D):\n",
    "            '''Return the smallest euclidean distance (min_dist) for all query-document combinations\n",
    "               and the id (min_idx) of the closest document for each query.\n",
    "\n",
    "                Keyword arguments:\n",
    "                Q -- tensor of all queries' embeddings \n",
    "                D -- tensor of all documents' embeddings\n",
    "                '''\n",
    "\n",
    "            # Euclidean distance between queries Q against all documents (in D)\n",
    "            EucDist = torch.cdist(Q, D, p=2, compute_mode = 'use_mm_for_euclid_dist_if_necessary')\n",
    "\n",
    "            min_dist, min_idx = torch.min(EucDist, dim=1) # dim=1 or dim=2\n",
    "\n",
    "            return min_dist, min_idx\n",
    "                  "
   ]
  },
  {
   "cell_type": "code",
   "execution_count": 30,
   "metadata": {},
   "outputs": [],
   "source": [
    "my_colbert = MyColBERT()\n"
   ]
  },
  {
   "cell_type": "code",
   "execution_count": 32,
   "metadata": {},
   "outputs": [],
   "source": [
    "raw_queries=df['query'].iloc[:5]\n",
    "raw_documents=df['documents'].iloc[:5]\n",
    "\n",
    "sim_score, sim_idx= my_colbert(queries=raw_queries, documents=raw_documents , dist_measure='MaxSim')"
   ]
  },
  {
   "cell_type": "code",
   "execution_count": null,
   "metadata": {},
   "outputs": [],
   "source": [
    "Q_ID = torch.tensor(df.index)\n",
    "\n",
    "torch.sum(Q_ID == maks_idx)\n",
    "\n"
   ]
  },
  {
   "cell_type": "markdown",
   "metadata": {},
   "source": [
    "# Train Sentence Bert XLM RoBERTa"
   ]
  },
  {
   "cell_type": "code",
   "execution_count": null,
   "metadata": {},
   "outputs": [],
   "source": []
  },
  {
   "cell_type": "code",
   "execution_count": null,
   "metadata": {},
   "outputs": [],
   "source": []
  },
  {
   "cell_type": "markdown",
   "metadata": {},
   "source": [
    "## MaxSim implementation"
   ]
  },
  {
   "cell_type": "code",
   "execution_count": 11,
   "metadata": {},
   "outputs": [
    {
     "name": "stdout",
     "output_type": "stream",
     "text": [
      "f_1score:  0.1489\n",
      "rights: 2792 out of 13485 \n",
      " 20.704% accuracy\n"
     ]
    }
   ],
   "source": [
    "# Calculate MaxSim and assign most similar document ID for each query\n",
    "maks, maks_idx = xlmMaxSim(Q=q_outputs, D=d_outputs)\n",
    "\n",
    "# Create query ids (0-13,485)\n",
    "most_similar_docID = maks_idx\n",
    "q_IDs = [x for x in range(q_outputs.shape[0])]\n",
    "\n",
    "# Due to the unchanged order - IDs are also the true labls\n",
    "y_true = q_IDs\n",
    "y_pred = most_similar_docID\n",
    "\n",
    "# Calculate and display f1-score\n",
    "print('f_1score: ', round(f1_score(y_true, y_pred, average='weighted'),4))\n",
    "\n",
    "# Calculate correct and wrong predictions\n",
    "rights = sum(np.array(y_true) == np.array(y_pred))\n",
    "wrongs = sum(np.array(y_true) != np.array(y_pred))\n",
    "\n",
    "# Calculate and display accuracy score\n",
    "print(f'rights: {rights} out of {rights+wrongs} \\n {np.round(rights/(rights+wrongs)*100,3)}% accuracy')\n"
   ]
  },
  {
   "cell_type": "code",
   "execution_count": 12,
   "metadata": {},
   "outputs": [
    {
     "name": "stdout",
     "output_type": "stream",
     "text": [
      "Top 10 accuracy: 50.73%\n"
     ]
    }
   ],
   "source": [
    "# In top k\n",
    "k=10\n",
    "\n",
    "# Similarity calculation\n",
    "mm = torch.matmul(q_outputs, torch.t(d_outputs))\n",
    "\n",
    "# find to k most similar\n",
    "maxSim, maks_idx = torch.topk(mm, k, largest=True)\n",
    "\n",
    "top_k_acc = accuracy_top_k(Q=q_outputs, pred_idx=maks_idx)\n",
    "\n",
    "print(f'Top {k} accuracy: {np.round(top_k_acc*100,2)}%' )"
   ]
  },
  {
   "cell_type": "code",
   "execution_count": 13,
   "metadata": {},
   "outputs": [],
   "source": [
    "# Distribution of \"predictions\"\n",
    "plt.figure(figsize=(18, 8), dpi=80)\n",
    "plt.hist(most_similar_docID, bins=q_outputs.shape[0])\n",
    "plt.title('Distribution of predictions of Maximum Similarity', fontsize=32)\n",
    "plt.xlabel('Document ID', fontsize=28)\n",
    "\n",
    "plt.ylabel('No. of predictions', fontsize=28)\n",
    "plt.ylim(0,80)\n",
    "\n",
    "plt.savefig(r'J:\\VOA\\MABI\\Deep Learning\\my_DTU_project\\images\\xlm_distribution_MaxSim.png')\n",
    "plt.show()"
   ]
  },
  {
   "cell_type": "code",
   "execution_count": 48,
   "metadata": {},
   "outputs": [
    {
     "data": {
      "image/png": "[encoded data removed]",
      "text/plain": [
       "<Figure size 432x288 with 1 Axes>"
      ]
     },
     "metadata": {
      "needs_background": "light"
     },
     "output_type": "display_data"
    }
   ],
   "source": [
    "# Distribution of \"predictions\"\n",
    "plt.scatter(q_IDs, most_similar_docID)\n",
    "plt.title('\"predictions\"')\n",
    "plt.xlabel('Query ID')\n",
    "plt.ylabel('Predicted doc ID ')\n",
    "plt.show()"
   ]
  },
  {
   "cell_type": "code",
   "execution_count": 12,
   "metadata": {},
   "outputs": [
    {
     "data": {
      "text/html": [
       "<div>\n",
       "<style scoped>\n",
       "    .dataframe tbody tr th:only-of-type {\n",
       "        vertical-align: middle;\n",
       "    }\n",
       "\n",
       "    .dataframe tbody tr th {\n",
       "        vertical-align: top;\n",
       "    }\n",
       "\n",
       "    .dataframe thead th {\n",
       "        text-align: right;\n",
       "    }\n",
       "</style>\n",
       "<table border=\"1\" class=\"dataframe\">\n",
       "  <thead>\n",
       "    <tr style=\"text-align: right;\">\n",
       "      <th></th>\n",
       "      <th>query</th>\n",
       "      <th>documents</th>\n",
       "    </tr>\n",
       "  </thead>\n",
       "  <tbody>\n",
       "    <tr>\n",
       "      <th>12</th>\n",
       "      <td>udføre gadeinterventioner i forbindelse med so...</td>\n",
       "      <td>Gennemføre outreachaktiviteter ved at give dir...</td>\n",
       "    </tr>\n",
       "    <tr>\n",
       "      <th>15</th>\n",
       "      <td>udføre forskning af flora</td>\n",
       "      <td>Indsamle og analysere data om planter med henb...</td>\n",
       "    </tr>\n",
       "    <tr>\n",
       "      <th>18</th>\n",
       "      <td>undervise i husholdning</td>\n",
       "      <td>Undervise i såvel husholdning som manuelle fær...</td>\n",
       "    </tr>\n",
       "    <tr>\n",
       "      <th>28</th>\n",
       "      <td>producere guitarkomponenter</td>\n",
       "      <td>Vælg det relevante tonetræ, materialer og værk...</td>\n",
       "    </tr>\n",
       "    <tr>\n",
       "      <th>29</th>\n",
       "      <td>betjene landbrugsmaskiner</td>\n",
       "      <td>Betjene motordrevet landbrugsudstyr, herunder ...</td>\n",
       "    </tr>\n",
       "    <tr>\n",
       "      <th>...</th>\n",
       "      <td>...</td>\n",
       "      <td>...</td>\n",
       "    </tr>\n",
       "    <tr>\n",
       "      <th>13456</th>\n",
       "      <td>overvågningsmetoder</td>\n",
       "      <td>Overvågningsmetoder, der anvendes til indsamli...</td>\n",
       "    </tr>\n",
       "    <tr>\n",
       "      <th>13463</th>\n",
       "      <td>indsamle husholdningsaffald</td>\n",
       "      <td>Indsamle ikke-farligt affald fra beboelsesområ...</td>\n",
       "    </tr>\n",
       "    <tr>\n",
       "      <th>13465</th>\n",
       "      <td>typer af borebits</td>\n",
       "      <td>Egenskaber og anvendelser af forskellige typer...</td>\n",
       "    </tr>\n",
       "    <tr>\n",
       "      <th>13471</th>\n",
       "      <td>stofafhængighed</td>\n",
       "      <td>Afhængighed af stoffer som alkohol, ordineret ...</td>\n",
       "    </tr>\n",
       "    <tr>\n",
       "      <th>13479</th>\n",
       "      <td>designe ure</td>\n",
       "      <td>Designe og udvikle den kunstneriske udformning...</td>\n",
       "    </tr>\n",
       "  </tbody>\n",
       "</table>\n",
       "<p>2792 rows × 2 columns</p>\n",
       "</div>"
      ],
      "text/plain": [
       "                                                   query  \\\n",
       "12     udføre gadeinterventioner i forbindelse med so...   \n",
       "15                             udføre forskning af flora   \n",
       "18                               undervise i husholdning   \n",
       "28                           producere guitarkomponenter   \n",
       "29                             betjene landbrugsmaskiner   \n",
       "...                                                  ...   \n",
       "13456                                overvågningsmetoder   \n",
       "13463                        indsamle husholdningsaffald   \n",
       "13465                                  typer af borebits   \n",
       "13471                                    stofafhængighed   \n",
       "13479                                        designe ure   \n",
       "\n",
       "                                               documents  \n",
       "12     Gennemføre outreachaktiviteter ved at give dir...  \n",
       "15     Indsamle og analysere data om planter med henb...  \n",
       "18     Undervise i såvel husholdning som manuelle fær...  \n",
       "28     Vælg det relevante tonetræ, materialer og værk...  \n",
       "29     Betjene motordrevet landbrugsudstyr, herunder ...  \n",
       "...                                                  ...  \n",
       "13456  Overvågningsmetoder, der anvendes til indsamli...  \n",
       "13463  Indsamle ikke-farligt affald fra beboelsesområ...  \n",
       "13465  Egenskaber og anvendelser af forskellige typer...  \n",
       "13471  Afhængighed af stoffer som alkohol, ordineret ...  \n",
       "13479  Designe og udvikle den kunstneriske udformning...  \n",
       "\n",
       "[2792 rows x 2 columns]"
      ]
     },
     "execution_count": 12,
     "metadata": {},
     "output_type": "execute_result"
    }
   ],
   "source": [
    "df_correct = df.loc[(np.array(y_true) == np.array(y_pred))]\n",
    "df_correct"
   ]
  },
  {
   "cell_type": "markdown",
   "metadata": {},
   "source": [
    "## Example of implementation of MINIMUM Eucledian distance"
   ]
  },
  {
   "cell_type": "code",
   "execution_count": 61,
   "metadata": {},
   "outputs": [
    {
     "name": "stdout",
     "output_type": "stream",
     "text": [
      "f_1score:  0.1756\n",
      "rights: 3009 out of 13485 \n",
      " 22.31% accuracy\n"
     ]
    }
   ],
   "source": [
    "# Compute euclidean distance and store documents that are close\n",
    "min_dist, min_idx = MinEuc(Q=q_outputs, D=d_outputs)\n",
    "\n",
    "# Store in numpy array and create query ids (0-13,485)\n",
    "most_similar_docID = np.array(min_idx)\n",
    "q_IDs = [x for x in range(q_outputs.shape[0])]\n",
    "\n",
    "# Due to the unchanged order - IDs are also the true labls\n",
    "y_true = q_IDs\n",
    "y_pred = most_similar_docID\n",
    "\n",
    "# Calculate and display f1-score\n",
    "print('f_1score: ', round(f1_score(y_true, y_pred, average='weighted'),4))\n",
    "\n",
    "# Calculate correct and wrong predictions\n",
    "rights = sum(np.array(y_true) == np.array(y_pred))\n",
    "wrongs = sum(np.array(y_true) != np.array(y_pred))\n",
    "\n",
    "# Calculate and display accuracy\n",
    "print(f'rights: {rights} out of {rights+wrongs} \\n {np.round(rights/(rights+wrongs)*100,2)}% accuracy')\n"
   ]
  },
  {
   "cell_type": "code",
   "execution_count": 72,
   "metadata": {},
   "outputs": [
    {
     "data": {
      "image/png": "[encoded data removed]",
      "text/plain": [
       "<Figure size 1440x640 with 1 Axes>"
      ]
     },
     "metadata": {
      "needs_background": "light"
     },
     "output_type": "display_data"
    }
   ],
   "source": [
    "# Distribution of \"predictions\"\n",
    "plt.figure(figsize=(18, 8), dpi=80)\n",
    "\n",
    "plt.hist(most_similar_docID, bins=q_outputs.shape[0])\n",
    "plt.title('Distribution of predictions of minimum Euclidean distance',  fontsize=32)\n",
    "plt.xlabel('Document ID', fontsize=28)\n",
    "plt.ylabel('No. of predictions', fontsize=28)\n",
    "plt.ylim(0,80)\n",
    "\n",
    "plt.savefig(r'J:\\VOA\\MABI\\Deep Learning\\my_DTU_project\\images\\xlm_distribution_Euclidean.png')\n",
    "plt.show()"
   ]
  },
  {
   "cell_type": "code",
   "execution_count": 19,
   "metadata": {},
   "outputs": [
    {
     "data": {
      "image/png": "[encoded data removed]",
      "text/plain": [
       "<Figure size 432x288 with 1 Axes>"
      ]
     },
     "metadata": {
      "needs_background": "light"
     },
     "output_type": "display_data"
    }
   ],
   "source": [
    "# Distribution of \"predictions\"\n",
    "q_IDs = [x for x in range(q_outputs.shape[0])]\n",
    "plt.scatter(q_IDs, mini_ids)\n",
    "plt.title('\"predictions\"')\n",
    "plt.xlabel('Query ID')\n",
    "plt.ylabel('Predicted doc ID ')\n",
    "plt.show()"
   ]
  },
  {
   "cell_type": "code",
   "execution_count": 18,
   "metadata": {},
   "outputs": [
    {
     "name": "stdout",
     "output_type": "stream",
     "text": [
      "f_1score:  0.1756\n",
      "rights: 3009 out of 13485 \n",
      " 0.223% accuracy\n"
     ]
    }
   ],
   "source": [
    "y_true = q_IDs\n",
    "y_pred = min_idx\n",
    "\n",
    "print('f_1score: ', round(f1_score(y_true, y_pred, average='macro'),4))\n",
    "\n",
    "rights = sum(np.array(y_true) == np.array(y_pred))\n",
    "wrongs = sum(np.array(y_true) != np.array(y_pred))\n",
    "\n",
    "print(f'rights: {rights} out of {rights+wrongs} \\n {np.round(rights/(rights+wrongs),3)}% accuracy')"
   ]
  },
  {
   "cell_type": "code",
   "execution_count": 58,
   "metadata": {},
   "outputs": [
    {
     "name": "stdout",
     "output_type": "stream",
     "text": [
      "Top 10 accuracy: 50.39%\n"
     ]
    }
   ],
   "source": [
    "# In top k\n",
    "k=5\n",
    "EucDist = torch.cdist(q_outputs, d_outputs, p=2, compute_mode = 'use_mm_for_euclid_dist_if_necessary')\n",
    "#mm = torch.matmul(q_outputs, torch.t(d_outputs))\n",
    "\n",
    "# find to k most similar\n",
    "minDist, min_idx = torch.topk(EucDist, k, largest=False)\n",
    "\n",
    "top_k_acc = accuracy_top_k(Q=q_outputs, pred_idx=min_idx)\n",
    "\n",
    "print(f'Top {k} accuracy: {np.round(top_k_acc*100,2)}%' )"
   ]
  },
  {
   "cell_type": "markdown",
   "metadata": {},
   "source": [
    "## Play around yourself"
   ]
  },
  {
   "cell_type": "code",
   "execution_count": 25,
   "metadata": {},
   "outputs": [],
   "source": [
    "def top_k_skills(raw_sentence, D, k=3, df=df):\n",
    "    '''Return the top k documents in df that a raw sentence is most similar to'''\n",
    "    \n",
    "    # Embed senetence\n",
    "    embeddings = torch.tensor(model.encode(raw_sentence)).to(device)\n",
    "\n",
    "    # compute similarity score\n",
    "    mm = torch.matmul(embeddings, torch.t(D))\n",
    "\n",
    "    # find to k most similar\n",
    "    maxSim, maks_idx = torch.topk(mm, k, largest=True)\n",
    "    \n",
    "    return df.iloc[np.array(maks_idx)]"
   ]
  },
  {
   "cell_type": "code",
   "execution_count": 26,
   "metadata": {},
   "outputs": [
    {
     "data": {
      "text/html": [
       "<div>\n",
       "<style scoped>\n",
       "    .dataframe tbody tr th:only-of-type {\n",
       "        vertical-align: middle;\n",
       "    }\n",
       "\n",
       "    .dataframe tbody tr th {\n",
       "        vertical-align: top;\n",
       "    }\n",
       "\n",
       "    .dataframe thead th {\n",
       "        text-align: right;\n",
       "    }\n",
       "</style>\n",
       "<table border=\"1\" class=\"dataframe\">\n",
       "  <thead>\n",
       "    <tr style=\"text-align: right;\">\n",
       "      <th></th>\n",
       "      <th>query</th>\n",
       "      <th>documents</th>\n",
       "    </tr>\n",
       "  </thead>\n",
       "  <tbody>\n",
       "    <tr>\n",
       "      <th>8995</th>\n",
       "      <td>udvise sociale kompetencer</td>\n",
       "      <td>Evne til at interagere effektivt med andre.</td>\n",
       "    </tr>\n",
       "    <tr>\n",
       "      <th>3803</th>\n",
       "      <td>koordinere med kreative afdelinger</td>\n",
       "      <td>Koordinere aktiviteter med andre kunstneriske ...</td>\n",
       "    </tr>\n",
       "    <tr>\n",
       "      <th>501</th>\n",
       "      <td>interagere med andre</td>\n",
       "      <td>Samarbejde med andre ansigt til ansigt i en la...</td>\n",
       "    </tr>\n",
       "  </tbody>\n",
       "</table>\n",
       "</div>"
      ],
      "text/plain": [
       "                                   query  \\\n",
       "8995          udvise sociale kompetencer   \n",
       "3803  koordinere med kreative afdelinger   \n",
       "501                 interagere med andre   \n",
       "\n",
       "                                              documents  \n",
       "8995        Evne til at interagere effektivt med andre.  \n",
       "3803  Koordinere aktiviteter med andre kunstneriske ...  \n",
       "501   Samarbejde med andre ansigt til ansigt i en la...  "
      ]
     },
     "execution_count": 26,
     "metadata": {},
     "output_type": "execute_result"
    }
   ],
   "source": [
    "raw_sent = \"samarbejde med andre\"\n",
    "\n",
    "top_k_skills(raw_sentence=raw_sent, D=d_outputs, k=3, df=df)"
   ]
  },
  {
   "cell_type": "code",
   "execution_count": 18,
   "metadata": {},
   "outputs": [
    {
     "data": {
      "text/html": [
       "<div>\n",
       "<style scoped>\n",
       "    .dataframe tbody tr th:only-of-type {\n",
       "        vertical-align: middle;\n",
       "    }\n",
       "\n",
       "    .dataframe tbody tr th {\n",
       "        vertical-align: top;\n",
       "    }\n",
       "\n",
       "    .dataframe thead th {\n",
       "        text-align: right;\n",
       "    }\n",
       "</style>\n",
       "<table border=\"1\" class=\"dataframe\">\n",
       "  <thead>\n",
       "    <tr style=\"text-align: right;\">\n",
       "      <th></th>\n",
       "      <th>query</th>\n",
       "      <th>documents</th>\n",
       "    </tr>\n",
       "  </thead>\n",
       "  <tbody>\n",
       "    <tr>\n",
       "      <th>3803</th>\n",
       "      <td>koordinere med kreative afdelinger</td>\n",
       "      <td>Koordinere aktiviteter med andre kunstneriske ...</td>\n",
       "    </tr>\n",
       "    <tr>\n",
       "      <th>8995</th>\n",
       "      <td>udvise sociale kompetencer</td>\n",
       "      <td>Evne til at interagere effektivt med andre.</td>\n",
       "    </tr>\n",
       "    <tr>\n",
       "      <th>11521</th>\n",
       "      <td>organisere arrangementer til flere samtidige p...</td>\n",
       "      <td>Tilrettelægge arrangementer og programmer, som...</td>\n",
       "    </tr>\n",
       "  </tbody>\n",
       "</table>\n",
       "</div>"
      ],
      "text/plain": [
       "                                                   query  \\\n",
       "3803                  koordinere med kreative afdelinger   \n",
       "8995                          udvise sociale kompetencer   \n",
       "11521  organisere arrangementer til flere samtidige p...   \n",
       "\n",
       "                                               documents  \n",
       "3803   Koordinere aktiviteter med andre kunstneriske ...  \n",
       "8995         Evne til at interagere effektivt med andre.  \n",
       "11521  Tilrettelægge arrangementer og programmer, som...  "
      ]
     },
     "execution_count": 18,
     "metadata": {},
     "output_type": "execute_result"
    }
   ],
   "source": [
    "#kompetence = \"samarbejde med andre\"\n",
    "#kompetence = \"programmering i sas\"\n",
    "#kompetence = \"håndværksfærdigheder\"\n",
    "#kompetence = \"anerkendende børnesyn\"\n",
    "kompetence = \"coorporate with others\"\n",
    "#kompetence = \"god med børn\"\n",
    "\n",
    "top_k_skills(raw_sentence=kompetence, D=d_outputs, k=3, df=df)\n"
   ]
  }
 ],
 "metadata": {
  "interpreter": {
   "hash": "62490302a320790e9096d978396a0f6884d50306ab9199b7a47371992da1d123"
  },
  "kernelspec": {
   "display_name": "Python 3.7.11 64-bit ('colbert': conda)",
   "language": "python",
   "name": "python3"
  },
  "language_info": {
   "codemirror_mode": {
    "name": "ipython",
    "version": 3
   },
   "file_extension": ".py",
   "mimetype": "text/x-python",
   "name": "python",
   "nbconvert_exporter": "python",
   "pygments_lexer": "ipython3",
   "version": "3.7.11"
  },
  "orig_nbformat": 4
 },
 "nbformat": 4,
 "nbformat_minor": 2
}
