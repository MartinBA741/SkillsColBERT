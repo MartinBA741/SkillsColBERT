{
 "cells": [
  {
   "cell_type": "markdown",
   "metadata": {},
   "source": [
    "# Predict and evaluate SkillsColBERT\n",
    "This notebook is mearly to show why the ColBERT model is not used"
   ]
  },
  {
   "cell_type": "code",
   "execution_count": 3,
   "metadata": {},
   "outputs": [],
   "source": [
    "# install\n",
    "#!pip install pytorch-pretrained-bert pytorch-nlp keras scikit-learn matplotlib tensorflow\n",
    "\n",
    "#https://towardsdatascience.com/bert-for-dummies-step-by-step-tutorial-fb90890ffe03 "
   ]
  },
  {
   "cell_type": "code",
   "execution_count": 4,
   "metadata": {},
   "outputs": [
    {
     "name": "stdout",
     "output_type": "stream",
     "text": [
      "Collecting pytorch-pretrained-bert\n",
      "  Downloading pytorch_pretrained_bert-0.6.2-py3-none-any.whl (123 kB)\n",
      "Collecting pytorch-nlp\n",
      "  Downloading pytorch_nlp-0.5.0-py3-none-any.whl (90 kB)\n",
      "Collecting keras\n",
      "  Downloading keras-2.7.0-py2.py3-none-any.whl (1.3 MB)\n",
      "Requirement already satisfied: scikit-learn in c:\\users\\b075420\\anaconda3\\envs\\nlp\\lib\\site-packages (1.0.2)\n",
      "Requirement already satisfied: matplotlib in c:\\users\\b075420\\anaconda3\\envs\\nlp\\lib\\site-packages (3.5.1)\n",
      "Collecting tensorflow\n",
      "  Downloading tensorflow-2.7.0-cp39-cp39-win_amd64.whl (430.8 MB)\n",
      "Requirement already satisfied: requests in c:\\users\\b075420\\anaconda3\\envs\\nlp\\lib\\site-packages (from pytorch-pretrained-bert) (2.26.0)\n",
      "Requirement already satisfied: torch>=0.4.1 in c:\\users\\b075420\\anaconda3\\envs\\nlp\\lib\\site-packages (from pytorch-pretrained-bert) (1.10.1)\n",
      "Requirement already satisfied: regex in c:\\users\\b075420\\anaconda3\\envs\\nlp\\lib\\site-packages (from pytorch-pretrained-bert) (2021.11.10)\n",
      "Collecting boto3\n",
      "  Downloading boto3-1.20.27-py3-none-any.whl (131 kB)\n",
      "Requirement already satisfied: tqdm in c:\\users\\b075420\\anaconda3\\envs\\nlp\\lib\\site-packages (from pytorch-pretrained-bert) (4.62.3)\n",
      "Requirement already satisfied: numpy in c:\\users\\b075420\\anaconda3\\envs\\nlp\\lib\\site-packages (from pytorch-pretrained-bert) (1.21.2)\n",
      "Requirement already satisfied: scipy>=1.1.0 in c:\\users\\b075420\\anaconda3\\envs\\nlp\\lib\\site-packages (from scikit-learn) (1.7.3)\n",
      "Requirement already satisfied: joblib>=0.11 in c:\\users\\b075420\\anaconda3\\envs\\nlp\\lib\\site-packages (from scikit-learn) (1.1.0)\n",
      "Requirement already satisfied: threadpoolctl>=2.0.0 in c:\\users\\b075420\\anaconda3\\envs\\nlp\\lib\\site-packages (from scikit-learn) (3.0.0)\n",
      "Requirement already satisfied: pyparsing>=2.2.1 in c:\\users\\b075420\\anaconda3\\envs\\nlp\\lib\\site-packages (from matplotlib) (3.0.4)\n",
      "Requirement already satisfied: fonttools>=4.22.0 in c:\\users\\b075420\\anaconda3\\envs\\nlp\\lib\\site-packages (from matplotlib) (4.28.5)\n",
      "Requirement already satisfied: kiwisolver>=1.0.1 in c:\\users\\b075420\\anaconda3\\envs\\nlp\\lib\\site-packages (from matplotlib) (1.3.2)\n",
      "Requirement already satisfied: pillow>=6.2.0 in c:\\users\\b075420\\anaconda3\\envs\\nlp\\lib\\site-packages (from matplotlib) (8.4.0)\n",
      "Requirement already satisfied: cycler>=0.10 in c:\\users\\b075420\\anaconda3\\envs\\nlp\\lib\\site-packages (from matplotlib) (0.11.0)\n",
      "Requirement already satisfied: python-dateutil>=2.7 in c:\\users\\b075420\\anaconda3\\envs\\nlp\\lib\\site-packages (from matplotlib) (2.8.2)\n",
      "Requirement already satisfied: packaging>=20.0 in c:\\users\\b075420\\anaconda3\\envs\\nlp\\lib\\site-packages (from matplotlib) (21.3)\n",
      "Requirement already satisfied: six>=1.12.0 in c:\\users\\b075420\\anaconda3\\envs\\nlp\\lib\\site-packages (from tensorflow) (1.16.0)\n",
      "Collecting keras-preprocessing>=1.1.1\n",
      "  Downloading Keras_Preprocessing-1.1.2-py2.py3-none-any.whl (42 kB)\n",
      "Collecting tensorboard~=2.6\n",
      "  Downloading tensorboard-2.7.0-py3-none-any.whl (5.8 MB)\n",
      "Collecting gast<0.5.0,>=0.2.1\n",
      "  Downloading gast-0.4.0-py3-none-any.whl (9.8 kB)\n",
      "Collecting grpcio<2.0,>=1.24.3\n",
      "  Downloading grpcio-1.43.0-cp39-cp39-win_amd64.whl (3.4 MB)\n",
      "Collecting google-pasta>=0.1.1\n",
      "  Downloading google_pasta-0.2.0-py3-none-any.whl (57 kB)\n",
      "Collecting tensorflow-io-gcs-filesystem>=0.21.0\n",
      "  Downloading tensorflow_io_gcs_filesystem-0.23.1-cp39-cp39-win_amd64.whl (1.5 MB)\n",
      "Collecting protobuf>=3.9.2\n",
      "  Downloading protobuf-3.19.1-cp39-cp39-win_amd64.whl (895 kB)\n",
      "Requirement already satisfied: typing-extensions>=3.6.6 in c:\\users\\b075420\\anaconda3\\envs\\nlp\\lib\\site-packages (from tensorflow) (3.10.0.2)\n",
      "Collecting flatbuffers<3.0,>=1.12\n",
      "  Downloading flatbuffers-2.0-py2.py3-none-any.whl (26 kB)\n",
      "Collecting termcolor>=1.1.0\n",
      "  Downloading termcolor-1.1.0.tar.gz (3.9 kB)\n",
      "Requirement already satisfied: wheel<1.0,>=0.32.0 in c:\\users\\b075420\\anaconda3\\envs\\nlp\\lib\\site-packages (from tensorflow) (0.37.0)\n",
      "Collecting absl-py>=0.4.0\n",
      "  Downloading absl_py-1.0.0-py3-none-any.whl (126 kB)\n",
      "Collecting h5py>=2.9.0\n",
      "  Downloading h5py-3.6.0-cp39-cp39-win_amd64.whl (2.8 MB)\n",
      "Collecting tensorflow-estimator<2.8,~=2.7.0rc0\n",
      "  Downloading tensorflow_estimator-2.7.0-py2.py3-none-any.whl (463 kB)\n",
      "Collecting astunparse>=1.6.0\n",
      "  Downloading astunparse-1.6.3-py2.py3-none-any.whl (12 kB)\n",
      "Collecting wrapt>=1.11.0\n",
      "  Downloading wrapt-1.13.3-cp39-cp39-win_amd64.whl (34 kB)\n",
      "Collecting libclang>=9.0.1\n",
      "  Downloading libclang-12.0.0-py2.py3-none-win_amd64.whl (13.1 MB)\n",
      "Collecting opt-einsum>=2.3.2\n",
      "  Downloading opt_einsum-3.3.0-py3-none-any.whl (65 kB)\n",
      "Collecting google-auth<3,>=1.6.3\n",
      "  Downloading google_auth-2.3.3-py2.py3-none-any.whl (155 kB)\n",
      "Collecting tensorboard-plugin-wit>=1.6.0\n",
      "  Downloading tensorboard_plugin_wit-1.8.0-py3-none-any.whl (781 kB)\n",
      "Collecting werkzeug>=0.11.15\n",
      "  Downloading Werkzeug-2.0.2-py3-none-any.whl (288 kB)\n",
      "Requirement already satisfied: setuptools>=41.0.0 in c:\\users\\b075420\\anaconda3\\envs\\nlp\\lib\\site-packages (from tensorboard~=2.6->tensorflow) (58.0.4)\n",
      "Collecting google-auth-oauthlib<0.5,>=0.4.1\n",
      "  Downloading google_auth_oauthlib-0.4.6-py2.py3-none-any.whl (18 kB)\n",
      "Collecting tensorboard-data-server<0.7.0,>=0.6.0\n",
      "  Downloading tensorboard_data_server-0.6.1-py3-none-any.whl (2.4 kB)\n",
      "Collecting markdown>=2.6.8\n",
      "  Downloading Markdown-3.3.6-py3-none-any.whl (97 kB)\n",
      "Collecting cachetools<5.0,>=2.0.0\n",
      "  Downloading cachetools-4.2.4-py3-none-any.whl (10 kB)\n",
      "Collecting pyasn1-modules>=0.2.1\n",
      "  Downloading pyasn1_modules-0.2.8-py2.py3-none-any.whl (155 kB)\n",
      "Collecting rsa<5,>=3.1.4\n",
      "  Downloading rsa-4.8-py3-none-any.whl (39 kB)\n",
      "Collecting requests-oauthlib>=0.7.0\n",
      "  Downloading requests_oauthlib-1.3.0-py2.py3-none-any.whl (23 kB)\n",
      "Requirement already satisfied: importlib-metadata>=4.4 in c:\\users\\b075420\\anaconda3\\envs\\nlp\\lib\\site-packages (from markdown>=2.6.8->tensorboard~=2.6->tensorflow) (4.8.2)\n",
      "Requirement already satisfied: zipp>=0.5 in c:\\users\\b075420\\anaconda3\\envs\\nlp\\lib\\site-packages (from importlib-metadata>=4.4->markdown>=2.6.8->tensorboard~=2.6->tensorflow) (3.6.0)\n",
      "Collecting pyasn1<0.5.0,>=0.4.6\n",
      "  Downloading pyasn1-0.4.8-py2.py3-none-any.whl (77 kB)\n",
      "Requirement already satisfied: charset-normalizer~=2.0.0 in c:\\users\\b075420\\anaconda3\\envs\\nlp\\lib\\site-packages (from requests->pytorch-pretrained-bert) (2.0.9)\n",
      "Requirement already satisfied: idna<4,>=2.5 in c:\\users\\b075420\\anaconda3\\envs\\nlp\\lib\\site-packages (from requests->pytorch-pretrained-bert) (3.3)\n",
      "Requirement already satisfied: certifi>=2017.4.17 in c:\\users\\b075420\\anaconda3\\envs\\nlp\\lib\\site-packages (from requests->pytorch-pretrained-bert) (2021.10.8)\n",
      "Requirement already satisfied: urllib3<1.27,>=1.21.1 in c:\\users\\b075420\\anaconda3\\envs\\nlp\\lib\\site-packages (from requests->pytorch-pretrained-bert) (1.26.7)\n",
      "Collecting oauthlib>=3.0.0\n",
      "  Downloading oauthlib-3.1.1-py2.py3-none-any.whl (146 kB)\n",
      "Collecting s3transfer<0.6.0,>=0.5.0\n",
      "  Downloading s3transfer-0.5.0-py3-none-any.whl (79 kB)\n",
      "Collecting jmespath<1.0.0,>=0.7.1\n",
      "  Downloading jmespath-0.10.0-py2.py3-none-any.whl (24 kB)\n",
      "Collecting botocore<1.24.0,>=1.23.27\n",
      "  Downloading botocore-1.23.27-py3-none-any.whl (8.5 MB)\n",
      "Requirement already satisfied: colorama in c:\\users\\b075420\\anaconda3\\envs\\nlp\\lib\\site-packages (from tqdm->pytorch-pretrained-bert) (0.4.4)\n",
      "Building wheels for collected packages: termcolor\n",
      "  Building wheel for termcolor (setup.py): started\n",
      "  Building wheel for termcolor (setup.py): finished with status 'done'\n",
      "  Created wheel for termcolor: filename=termcolor-1.1.0-py3-none-any.whl size=4847 sha256=088eb265992af88301668a0729d5ebb13d66e4979bfee15d698fbbc69a8e9402\n",
      "  Stored in directory: c:\\users\\b075420\\appdata\\local\\pip\\cache\\wheels\\b6\\0d\\90\\0d1bbd99855f99cb2f6c2e5ff96f8023fad8ec367695f7d72d\n",
      "Successfully built termcolor\n",
      "Installing collected packages: pyasn1, rsa, pyasn1-modules, oauthlib, jmespath, cachetools, requests-oauthlib, google-auth, botocore, werkzeug, tensorboard-plugin-wit, tensorboard-data-server, s3transfer, protobuf, markdown, grpcio, google-auth-oauthlib, absl-py, wrapt, termcolor, tensorflow-io-gcs-filesystem, tensorflow-estimator, tensorboard, opt-einsum, libclang, keras-preprocessing, keras, h5py, google-pasta, gast, flatbuffers, boto3, astunparse, tensorflow, pytorch-pretrained-bert, pytorch-nlp\n",
      "Successfully installed absl-py-1.0.0 astunparse-1.6.3 boto3-1.20.27 botocore-1.23.27 cachetools-4.2.4 flatbuffers-2.0 gast-0.4.0 google-auth-2.3.3 google-auth-oauthlib-0.4.6 google-pasta-0.2.0 grpcio-1.43.0 h5py-3.6.0 jmespath-0.10.0 keras-2.7.0 keras-preprocessing-1.1.2 libclang-12.0.0 markdown-3.3.6 oauthlib-3.1.1 opt-einsum-3.3.0 protobuf-3.19.1 pyasn1-0.4.8 pyasn1-modules-0.2.8 pytorch-nlp-0.5.0 pytorch-pretrained-bert-0.6.2 requests-oauthlib-1.3.0 rsa-4.8 s3transfer-0.5.0 tensorboard-2.7.0 tensorboard-data-server-0.6.1 tensorboard-plugin-wit-1.8.0 tensorflow-2.7.0 tensorflow-estimator-2.7.0 tensorflow-io-gcs-filesystem-0.23.1 termcolor-1.1.0 werkzeug-2.0.2 wrapt-1.13.3\n"
     ]
    }
   ],
   "source": [
    "# BERT imports\n",
    "import torch\n",
    "from torch.utils.data import TensorDataset, DataLoader, RandomSampler, SequentialSampler\n",
    "from keras.preprocessing.sequence import pad_sequences\n",
    "from sklearn.model_selection import train_test_split\n",
    "from pytorch_pretrained_bert import BertTokenizer, BertConfig\n",
    "from pytorch_pretrained_bert import BertAdam, BertForSequenceClassification\n",
    "from tqdm import tqdm, trange\n",
    "import pandas as pd\n",
    "import io\n",
    "import numpy as np\n",
    "import matplotlib.pyplot as plt\n",
    "% matplotlib inline"
   ]
  },
  {
   "cell_type": "code",
   "execution_count": 2,
   "metadata": {},
   "outputs": [
    {
     "name": "stdout",
     "output_type": "stream",
     "text": [
      "device = cpu\n"
     ]
    }
   ],
   "source": [
    "# specify CPU or GPU as device\n",
    "if torch.cuda.is_available():\n",
    "  device = 'cuda'\n",
    "else:\n",
    "  device = 'cpu'\n",
    "print(f'device = {device}')"
   ]
  },
  {
   "cell_type": "markdown",
   "metadata": {},
   "source": [
    "# Import model\n",
    "Queries and documents have now been tokenized to the vocabolary"
   ]
  },
  {
   "cell_type": "code",
   "execution_count": 3,
   "metadata": {},
   "outputs": [],
   "source": [
    "from transformers import BertConfig\n",
    "from transformers import BertModel\n",
    "\n",
    "model_path = r'J:\\VOA\\MABI\\Deep Learning\\my_DTU_project\\Models\\danish_bert_uncased_v2'\n",
    "#model_path = r'J:\\VOA\\MABI\\Kompetence\\kompetenceprojekt\\star-kompetencemodel\\models\\kategorisering'\n",
    "\n",
    "config_path = r'\\bert_config.json'\n",
    "#config_path = r'\\config.json'\n",
    "\n",
    "config = BertConfig.from_pretrained(model_path + config_path)\n",
    "bert_base = BertModel(config)\n",
    "\n",
    "#param_optimizer = list(bert_base.named_parameters())\n",
    "#print(bert_base)"
   ]
  },
  {
   "cell_type": "code",
   "execution_count": 4,
   "metadata": {},
   "outputs": [],
   "source": [
    "from torch import nn\n",
    "import torch.nn.functional as F\n",
    "\n",
    "class SkillsColBERT(nn.Module):\n",
    "    def __init__(self):\n",
    "          super(SkillsColBERT, self).__init__()\n",
    "          self.bert = bert_base \n",
    "          ### New layers:\n",
    "          #TODO: \n",
    "          # self.finalLinear = nn.Linear(768, 32) # 32 is \"low\" for faster computation of MaxSim (it is independent of sequence lentgh)\n",
    "          \n",
    "\n",
    "    def forward(self, ids, mask):\n",
    "          sequence_output, pooled_output = self.bert(ids, attention_mask=mask) # sequence_output shape is: (batch_size, sequence_length, 768)\n",
    "               \n",
    "          # We apply the linear layer in line with ColBERT paper. The linear layer (which applies a linear transformation)\n",
    "          # takes as input the hidden states of all tokens (so seq_len times a vector of size 768, each corresponding to\n",
    "          # a single token in the input sequence) and outputs 32 numbers for every token\n",
    "          # so the logits are of shape (batch_size, sequence_length, 32)\n",
    "          \n",
    "          #TODO: \n",
    "          # sequence_output = self.finalLinear(sequence_output)\n",
    "          # sequence_output = F.softmax(sequence_output, dim=1)\n",
    "\n",
    "          return sequence_output\n",
    "\n",
    "#model = SkillsColBERT()\n",
    "#model"
   ]
  },
  {
   "cell_type": "markdown",
   "metadata": {},
   "source": [
    "## Load Query and Document embeddings\n",
    "These are saved locally by the code \"make_embeddings.ipynb\"."
   ]
  },
  {
   "cell_type": "code",
   "execution_count": 5,
   "metadata": {},
   "outputs": [
    {
     "name": "stdout",
     "output_type": "stream",
     "text": [
      "Query embedding size:     torch.Size([100, 24, 768])\n",
      "Document embedding size:  torch.Size([100, 128, 768])\n"
     ]
    }
   ],
   "source": [
    "# Embeddin#gs of queries\n",
    "#q_outputs = torch.load(f'./query_embeddings/query_tensor.pt') \n",
    "q_outputs = torch.load(f'./query_embeddings/tensor_1.pt') \n",
    "\n",
    "# Embeddings of documents\n",
    "#d_outputs = torch.load(f'./doc_embeddings/doc_tensor.pt')\n",
    "d_outputs = torch.load(f'./doc_embeddings/tensor_1.pt')\n",
    "\n",
    "q_outputs = q_outputs.to(device)\n",
    "d_outputs = d_outputs.to(device)\n",
    "\n",
    "print('Query embedding size:    ', q_outputs.shape) \n",
    "print('Document embedding size: ', d_outputs.shape) "
   ]
  },
  {
   "cell_type": "markdown",
   "metadata": {},
   "source": [
    "In summary, given a query sequence $q = q_0 q_1...q_l$ and a document sequence $d = d_0 d_1...d_n$, we compute the bags of embeddings $E_q$ and $E_d$ in the following manner:\n",
    "\n",
    "* $E_q$ := Normalize( CNN( BERT(“[Q]$q_0 q_1...q_l$ ##...#”) ) )\n",
    "\n",
    "* $E_d$ := Normalize( CNN( BERT(“[D]$d_0 d_1...d_l$ ...d_n”) ) )\n",
    "\n",
    "where '#' refers to the [mask] tokens. \n",
    "\n",
    "In my implementation of BERT the output dimensions are as follow:\n",
    "\\begin{align*}\n",
    "    dim(E_q) = [24 \\times 768] \\\\\n",
    "    dim(E_d) = [ 128 \\times 768]\n",
    "\\end{align*}\n",
    "\n",
    "but with ColBert the last dimension is reduced to 32 by an additional linear layer, such that my implementation of ColBERT, the output dimensions are as follow:\n",
    "\\begin{align*}\n",
    "    dim(E_q) = [24 \\times 32] \\\\\n",
    "    dim(E_d) = [ 128 \\times 32]\n",
    "\\end{align*}\n",
    "\n",
    "In practice the MaxSim score is implemented such that 1 query is evaluated against all ducuments. Therefore the relevant dimensions are:\n",
    "\\begin{align*}\n",
    "    dim(E_q) = [24 \\times 32] \\\\\n",
    "    dim(E_D) = [13.485 \\times 128 \\times 32]\n",
    "\\end{align*}\n",
    "where 32 is 768 if standard BERT embeddings are used.\n",
    "\n",
    "\n",
    "### The relevancy score, MaxSim, is defined as follows:\n",
    "$$ S_{q,d} = \\sum_{i \\in ||E_q||} \\max_{j \\in ||E_d||} E_{q_i} * E_{d_j}^T$$"
   ]
  },
  {
   "cell_type": "code",
   "execution_count": 6,
   "metadata": {},
   "outputs": [],
   "source": [
    "def MinEuc(q, D):\n",
    "    '''Takes in the embeddings of a query, q, and all documents' embeddings, D.\n",
    "        Return a tensor of the query's similarity scores to all documents in D.'''\n",
    "    \n",
    "    # Euclidean distance between query q against all documents (in D)\n",
    "    EucDist = torch.cdist(q, D, p=2, compute_mode = 'use_mm_for_euclid_dist_if_necessary')\n",
    "    \n",
    "    mini, _ = torch.min(EucDist, dim=2) # dim=1 or dim=2\n",
    "    #print(mini.shape) # should be (batch_size, 24)\n",
    "    \n",
    "    # Sum over minimum values --> return vector of length len(D)\n",
    "    S_qD = torch.sum(mini, dim=1)\n",
    "    \n",
    "    return S_qD"
   ]
  },
  {
   "cell_type": "code",
   "execution_count": 22,
   "metadata": {},
   "outputs": [],
   "source": [
    "def MaxSim(q, D):\n",
    "    '''Takes in the embeddings of a query, q, and all documents' embeddings, D.\n",
    "        Return a tensor of the query's similarity scores to all documents in D.'''\n",
    "\n",
    "    # repeat q for faster matrix multiplication (faster than loop)\n",
    "    batch_size=D.shape[0]\n",
    "    q_X = q.repeat(batch_size, 1, 1)\n",
    "    \n",
    "    # multiply the same query q against all documents (in D)\n",
    "    batch_mm = torch.bmm(q_X, D.permute(0,2,1))\n",
    "    \n",
    "    maks, maks_id = torch.max(batch_mm, dim=2) # dim=1 or dim=2\n",
    "    \n",
    "    # Sum over maximum values --> return vector of length len(D)\n",
    "    S_qD = torch.sum(maks, dim=1)\n",
    "    #S_qD = torch.sum(batch_mm[maks_id[q_no]], dim=1)\n",
    "    \n",
    "\n",
    "    return S_qD"
   ]
  },
  {
   "cell_type": "markdown",
   "metadata": {},
   "source": [
    "## MaxSim implementation"
   ]
  },
  {
   "cell_type": "code",
   "execution_count": 23,
   "metadata": {},
   "outputs": [
    {
     "name": "stdout",
     "output_type": "stream",
     "text": [
      "batch_mm.shape:  torch.Size([10, 24, 128])\n",
      "maks_id.shape:  torch.Size([10, 24])\n",
      "maks_id[0].shape:  torch.Size([24])\n"
     ]
    },
    {
     "data": {
      "text/plain": [
       "tensor([6.7995, 6.6068, 6.6610, 6.6908, 6.5931, 6.7041, 6.7110, 6.7562, 6.8600,\n",
       "        6.7478], grad_fn=<SumBackward1>)"
      ]
     },
     "execution_count": 23,
     "metadata": {},
     "output_type": "execute_result"
    }
   ],
   "source": [
    " # set sample size, i.e. number of queries to calculate MaxSim score\n",
    "sample_size = 10 # q_outputs.shape[0] # 100\n",
    "\n",
    "q_no=0\n",
    " # Define D as all documents:\n",
    "D = d_outputs[:sample_size]\n",
    "q = q_outputs[q_no]\n",
    "\n",
    "batch_size=D.shape[0]\n",
    "q_X = q.repeat(batch_size, 1, 1)\n",
    "    \n",
    "# multiply the same query q against all documents (in D)\n",
    "batch_mm = torch.bmm(q_X, D.permute(0,2,1))\n",
    "print('batch_mm.shape: ',batch_mm.shape)\n",
    "\n",
    "maks, maks_id = torch.max(batch_mm, dim=2) # dim=1 or dim=2\n",
    "print('maks_id.shape: ', maks_id.shape)\n",
    "print('maks_id[0].shape: ', maks_id[0].shape)\n",
    "# Sum over maximum values --> return vector of length len(D)\n",
    "S_qD = torch.sum(maks, dim=1)\n",
    "#print(batch_mm[maks_id].shape)\n",
    "\n",
    "#S_qD = torch.sum(batch_mm[maks_id[q_no]], dim=2)\n",
    "S_qD"
   ]
  },
  {
   "cell_type": "code",
   "execution_count": 142,
   "metadata": {},
   "outputs": [
    {
     "name": "stderr",
     "output_type": "stream",
     "text": [
      "100%|██████████| 20/20 [00:00<00:00, 163.92it/s]\n"
     ]
    }
   ],
   "source": [
    "# set sample size, i.e. number of queries to calculate MaxSim score\n",
    "sample_size = 20# q_outputs.shape[0] # 100\n",
    "\n",
    "most_similar_doc_score = []\n",
    "most_similar_docID = []\n",
    "\n",
    " # Define D as all documents:\n",
    "D = d_outputs[:sample_size]\n",
    "\n",
    "for q_no in tqdm(range(sample_size)):\n",
    "    \n",
    "    # Select one query\n",
    "    q = q_outputs[q_no]\n",
    "\n",
    "    # Compute similarity scores for all \n",
    "    S_qD = MaxSim(q, D)\n",
    "    maks, maks_id = torch.max(S_qD, dim=0)\n",
    "\n",
    "    most_similar_doc_score.append(float(maks))\n",
    "    most_similar_docID.append(int(maks_id))"
   ]
  },
  {
   "cell_type": "code",
   "execution_count": 143,
   "metadata": {},
   "outputs": [
    {
     "data": {
      "image/png": "[encoded data removed]",
      "text/plain": [
       "<Figure size 432x288 with 1 Axes>"
      ]
     },
     "metadata": {
      "needs_background": "light"
     },
     "output_type": "display_data"
    }
   ],
   "source": [
    "# Distribution of \"predictions\"\n",
    "plt.hist(most_similar_docID, bins=D.shape[0])\n",
    "plt.title('Distribution of \"predictions\" of minimum Euclidean distance')\n",
    "plt.xlabel('Document ID')\n",
    "plt.ylabel('No. of predictions')\n",
    "plt.show()"
   ]
  },
  {
   "cell_type": "code",
   "execution_count": 144,
   "metadata": {},
   "outputs": [
    {
     "data": {
      "image/png": "[encoded data removed]",
      "text/plain": [
       "<Figure size 432x288 with 1 Axes>"
      ]
     },
     "metadata": {
      "needs_background": "light"
     },
     "output_type": "display_data"
    }
   ],
   "source": [
    "# Distribution of \"predictions\"\n",
    "q_IDs = [x for x in range(sample_size)]\n",
    "plt.scatter(q_IDs, most_similar_docID)\n",
    "plt.title('\"predictions\"')\n",
    "plt.xlabel('Query ID')\n",
    "plt.ylabel('Predicted doc ID ')\n",
    "plt.show()"
   ]
  },
  {
   "cell_type": "code",
   "execution_count": 70,
   "metadata": {},
   "outputs": [
    {
     "name": "stdout",
     "output_type": "stream",
     "text": [
      "f_1score:  0.0111\n"
     ]
    }
   ],
   "source": [
    "from sklearn.metrics import f1_score\n",
    "y_true = q_IDs\n",
    "y_pred = most_similar_docID\n",
    "\n",
    "print('f_1score: ', round(f1_score(y_true, y_pred, average='macro'),4))"
   ]
  },
  {
   "cell_type": "code",
   "execution_count": 71,
   "metadata": {},
   "outputs": [
    {
     "name": "stdout",
     "output_type": "stream",
     "text": [
      "rights: 1 out of 20 \n",
      " 0.05% accuracy\n"
     ]
    }
   ],
   "source": [
    "rights = sum(np.array(y_true) == np.array(y_pred))\n",
    "wrongs = sum(np.array(y_true) != np.array(y_pred))\n",
    "\n",
    "print(f'rights: {rights} out of {rights+wrongs} \\n {np.round(rights/(rights+wrongs),3)}% accuracy')"
   ]
  },
  {
   "cell_type": "markdown",
   "metadata": {},
   "source": [
    "## Example of implementation of MINIMUM Eucledian distance"
   ]
  },
  {
   "cell_type": "code",
   "execution_count": 16,
   "metadata": {},
   "outputs": [
    {
     "name": "stderr",
     "output_type": "stream",
     "text": [
      "100%|██████████| 100/100 [00:15<00:00,  6.63it/s]\n"
     ]
    }
   ],
   "source": [
    "# set sample size, i.e. number of queries to calculate MaxSim score\n",
    "sample_size = q_outputs.shape[0] # 100\n",
    "\n",
    "most_similar_doc_score = []\n",
    "most_similar_docID = []\n",
    "\n",
    " # Define D as all documents:\n",
    "D = d_outputs[:sample_size]\n",
    "\n",
    "for q_no in tqdm(range(sample_size)):\n",
    "    \n",
    "    # Select one query\n",
    "    q = q_outputs[q_no]\n",
    "\n",
    "    # Compute similarity scores for all \n",
    "    #S_qD = MaxSim(q, D)\n",
    "    S_qD = MinEuc(q, D)\n",
    "    mini, mini_id = torch.min(S_qD, dim=0)\n",
    "\n",
    "    most_similar_doc_score.append(float(mini))\n",
    "    most_similar_docID.append(int(mini_id))"
   ]
  },
  {
   "cell_type": "code",
   "execution_count": 17,
   "metadata": {},
   "outputs": [
    {
     "data": {
      "image/png": "[encoded data removed]",
      "text/plain": [
       "<Figure size 432x288 with 1 Axes>"
      ]
     },
     "metadata": {
      "needs_background": "light"
     },
     "output_type": "display_data"
    }
   ],
   "source": [
    "# Distribution of \"predictions\"\n",
    "plt.hist(most_similar_docID, bins=D.shape[0])\n",
    "plt.title('Distribution of \"predictions\" of minimum Euclidean distance')\n",
    "plt.xlabel('Document ID')\n",
    "plt.ylabel('No. of predictions')\n",
    "plt.show()"
   ]
  },
  {
   "cell_type": "code",
   "execution_count": 18,
   "metadata": {},
   "outputs": [
    {
     "data": {
      "image/png": "[encoded data removed]",
      "text/plain": [
       "<Figure size 432x288 with 1 Axes>"
      ]
     },
     "metadata": {
      "needs_background": "light"
     },
     "output_type": "display_data"
    }
   ],
   "source": [
    "# Distribution of \"predictions\"\n",
    "q_IDs = [x for x in range(sample_size)]\n",
    "plt.scatter(q_IDs, most_similar_docID)\n",
    "plt.title('\"predictions\"')\n",
    "plt.xlabel('Query ID')\n",
    "plt.ylabel('Predicted doc ID ')\n",
    "plt.show()"
   ]
  },
  {
   "cell_type": "code",
   "execution_count": 19,
   "metadata": {},
   "outputs": [
    {
     "name": "stdout",
     "output_type": "stream",
     "text": [
      "f_1score:  0.0\n"
     ]
    }
   ],
   "source": [
    "from sklearn.metrics import f1_score\n",
    "y_true = q_IDs\n",
    "y_pred = most_similar_docID\n",
    "\n",
    "print('f_1score: ', round(f1_score(y_true, y_pred, average='macro'),4))"
   ]
  },
  {
   "cell_type": "code",
   "execution_count": 20,
   "metadata": {},
   "outputs": [
    {
     "name": "stdout",
     "output_type": "stream",
     "text": [
      "rights: 0 out of 100 \n",
      " 0.0% accuracy\n"
     ]
    }
   ],
   "source": [
    "rights = sum(np.array(y_true) == np.array(y_pred))\n",
    "wrongs = sum(np.array(y_true) != np.array(y_pred))\n",
    "\n",
    "print(f'rights: {rights} out of {rights+wrongs} \\n {np.round(rights/(rights+wrongs),3)}% accuracy')"
   ]
  }
 ],
 "metadata": {
  "interpreter": {
   "hash": "62490302a320790e9096d978396a0f6884d50306ab9199b7a47371992da1d123"
  },
  "kernelspec": {
   "display_name": "Python 3.7.11 64-bit ('colbert': conda)",
   "language": "python",
   "name": "python3"
  },
  "language_info": {
   "codemirror_mode": {
    "name": "ipython",
    "version": 3
   },
   "file_extension": ".py",
   "mimetype": "text/x-python",
   "name": "python",
   "nbconvert_exporter": "python",
   "pygments_lexer": "ipython3",
   "version": "3.9.7"
  },
  "orig_nbformat": 4
 },
 "nbformat": 4,
 "nbformat_minor": 2
}
